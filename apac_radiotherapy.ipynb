{
 "cells": [
  {
   "cell_type": "markdown",
   "id": "0b4cbeed",
   "metadata": {},
   "source": [
    "# 0. Imports"
   ]
  },
  {
   "cell_type": "code",
   "execution_count": 2,
   "id": "fef003d9",
   "metadata": {},
   "outputs": [],
   "source": [
    "# Basic imports\n",
    "import pandas as pd\n",
    "import numpy as np\n",
    "import seaborn as sns\n",
    "import matplotlib.pyplot as plt\n",
    "import os\n",
    "\n",
    "import math\n",
    "\n",
    "import datasus_dbc # Used to decompress the DBC file from DATASUS\n",
    "import dbfread # Used to read the decompressed DBF\n",
    "\n",
    "from IPython.core.display import HTML\n",
    "from IPython.display import Image"
   ]
  },
  {
   "cell_type": "code",
   "execution_count": 3,
   "id": "dbfe15be",
   "metadata": {},
   "outputs": [],
   "source": [
    "# Set the option to display all columns in the DataFrame\n",
    "pd.set_option('display.max_columns', None)"
   ]
  },
  {
   "cell_type": "code",
   "execution_count": 4,
   "id": "64313538",
   "metadata": {},
   "outputs": [
    {
     "data": {
      "text/html": [
       "<style>.container { width:100% !important; }</style>"
      ],
      "text/plain": [
       "<IPython.core.display.HTML object>"
      ]
     },
     "metadata": {},
     "output_type": "display_data"
    }
   ],
   "source": [
    "def jupyter_settings():\n",
    "    %matplotlib inline\n",
    "    \n",
    "    plt.style.use( 'bmh' )\n",
    "    plt.rcParams['figure.figsize'] = [25, 12]\n",
    "    plt.rcParams['font.size'] = 24\n",
    "    \n",
    "    display( HTML( '<style>.container { width:100% !important; }</style>') )\n",
    "    pd.options.display.max_columns = None\n",
    "    pd.options.display.max_rows = None\n",
    "    pd.set_option( 'display.expand_frame_repr', False )\n",
    "    \n",
    "    sns.set()\n",
    "\n",
    "jupyter_settings()"
   ]
  },
  {
   "cell_type": "markdown",
   "id": "f818f97f",
   "metadata": {},
   "source": [
    "# 1. Class RT_APAC"
   ]
  },
  {
   "cell_type": "code",
   "execution_count": 5,
   "id": "ac1d03bf",
   "metadata": {},
   "outputs": [],
   "source": [
    "class RT_APAC:\n",
    "      \n",
    "    def concat_all_data(path_files, state): # Final dictionary to hold the results  \n",
    "\n",
    "        # Create a full data DataFrame to hold all data\n",
    "        full_data = pd.DataFrame()            \n",
    "        \n",
    "        # Path to the directory containing the DBC files\n",
    "        path_files = os.path.join(path_files, state)  # Adjust the path as needed\n",
    "\n",
    "        # Check all paths in the directory\n",
    "        for path in os.listdir(path_files):\n",
    "\n",
    "            # Create an empty DataFrame to hold all data\n",
    "            all_data = pd.DataFrame()\n",
    "\n",
    "            # Print the path being processed\n",
    "            print(\"Processing path:\", path, end=' from -> ')            \n",
    "\n",
    "            # Construct the full path to the directory            \n",
    "            path_destiny = os.path.join(path_files, path)\n",
    "            print(path_destiny)            \n",
    "        \n",
    "            # Check all files in the path\n",
    "            try:\n",
    "                for file in os.listdir(path_destiny):                \n",
    "                \n",
    "                    # Construct the full path to the file\n",
    "                    file_to_read = os.path.join(path_destiny, file)   \n",
    "                \n",
    "                    # Decompress the DBC file to a temporary DBF file\n",
    "                    datasus_dbc.decompress(file_to_read, \"output.dbf\")\n",
    "\n",
    "                    # Read the decompressed DBF file using dbfread\n",
    "                    dbf = dbfread.DBF('output.dbf', encoding='latin1')\n",
    "                    #df = pd.DataFrame(iter(dbf))\n",
    "\n",
    "                    # Now you can work with the DataFrame\n",
    "                    df = pd.DataFrame(iter(dbf))  # Convert to DataFrame\n",
    "\n",
    "                    for col in df.columns:\n",
    "                        # Convert columns to string type\n",
    "                        df[col] = df[col].astype(str)                \n",
    "\n",
    "                    # Concatenate the DataFrame to the main DataFrame                \n",
    "                    all_data = pd.concat([all_data, df], ignore_index=True)            \n",
    "                \n",
    "                    # Construct the full path to save the CSV file\n",
    "                    csv_destiny = os.path.join(path_files, f\"{path}.csv\") \n",
    "            except NotADirectoryError:\n",
    "                print(f\"Error: {path_destiny} is not a directory or does not exist.\")\n",
    "                pass               \n",
    "        \n",
    "            # Concatenate the all_data DataFrame to the full_data DataFrame\n",
    "            full_data = pd.concat([full_data, all_data], ignore_index=True)\n",
    "        \n",
    "\n",
    "        # Save the full_data DataFrame to a CSV file\n",
    "        csv_destiny = os.path.join(path_files, f\"{state}.csv\")\n",
    "        full_data.to_csv(csv_destiny, index=False)"
   ]
  },
  {
   "cell_type": "code",
   "execution_count": 7,
   "id": "113d1ecb",
   "metadata": {},
   "outputs": [
    {
     "name": "stdout",
     "output_type": "stream",
     "text": [
      "Processing path: 08 from -> C:\\Users\\175 MX\\Documents\\Gustavo\\datasus\\files\\data_rt_states\\states\\sp\\08\n",
      "Processing path: 09 from -> C:\\Users\\175 MX\\Documents\\Gustavo\\datasus\\files\\data_rt_states\\states\\sp\\09\n",
      "Processing path: 10 from -> C:\\Users\\175 MX\\Documents\\Gustavo\\datasus\\files\\data_rt_states\\states\\sp\\10\n",
      "Processing path: 11 from -> C:\\Users\\175 MX\\Documents\\Gustavo\\datasus\\files\\data_rt_states\\states\\sp\\11\n",
      "Processing path: 12 from -> C:\\Users\\175 MX\\Documents\\Gustavo\\datasus\\files\\data_rt_states\\states\\sp\\12\n",
      "Processing path: 13 from -> C:\\Users\\175 MX\\Documents\\Gustavo\\datasus\\files\\data_rt_states\\states\\sp\\13\n",
      "Processing path: 14 from -> C:\\Users\\175 MX\\Documents\\Gustavo\\datasus\\files\\data_rt_states\\states\\sp\\14\n",
      "Processing path: 15 from -> C:\\Users\\175 MX\\Documents\\Gustavo\\datasus\\files\\data_rt_states\\states\\sp\\15\n",
      "Processing path: 16 from -> C:\\Users\\175 MX\\Documents\\Gustavo\\datasus\\files\\data_rt_states\\states\\sp\\16\n",
      "Processing path: 17 from -> C:\\Users\\175 MX\\Documents\\Gustavo\\datasus\\files\\data_rt_states\\states\\sp\\17\n",
      "Processing path: 18 from -> C:\\Users\\175 MX\\Documents\\Gustavo\\datasus\\files\\data_rt_states\\states\\sp\\18\n",
      "Processing path: 19 from -> C:\\Users\\175 MX\\Documents\\Gustavo\\datasus\\files\\data_rt_states\\states\\sp\\19\n",
      "Processing path: 20 from -> C:\\Users\\175 MX\\Documents\\Gustavo\\datasus\\files\\data_rt_states\\states\\sp\\20\n",
      "Processing path: 21 from -> C:\\Users\\175 MX\\Documents\\Gustavo\\datasus\\files\\data_rt_states\\states\\sp\\21\n",
      "Processing path: 22 from -> C:\\Users\\175 MX\\Documents\\Gustavo\\datasus\\files\\data_rt_states\\states\\sp\\22\n",
      "Processing path: 23 from -> C:\\Users\\175 MX\\Documents\\Gustavo\\datasus\\files\\data_rt_states\\states\\sp\\23\n",
      "Processing path: 24 from -> C:\\Users\\175 MX\\Documents\\Gustavo\\datasus\\files\\data_rt_states\\states\\sp\\24\n",
      "Processing path: dados_rt_sp.ipynb from -> C:\\Users\\175 MX\\Documents\\Gustavo\\datasus\\files\\data_rt_states\\states\\sp\\dados_rt_sp.ipynb\n",
      "Error: C:\\Users\\175 MX\\Documents\\Gustavo\\datasus\\files\\data_rt_states\\states\\sp\\dados_rt_sp.ipynb is not a directory or does not exist.\n"
     ]
    }
   ],
   "source": [
    "data = RT_APAC.concat_all_data(\"C:\\\\Users\\\\175 MX\\\\Documents\\\\Gustavo\\\\datasus\\\\files\\\\data_rt_states\\\\states\\\\\", \"sp\")"
   ]
  }
 ],
 "metadata": {
  "kernelspec": {
   "display_name": "Python 3",
   "language": "python",
   "name": "python3"
  },
  "language_info": {
   "codemirror_mode": {
    "name": "ipython",
    "version": 3
   },
   "file_extension": ".py",
   "mimetype": "text/x-python",
   "name": "python",
   "nbconvert_exporter": "python",
   "pygments_lexer": "ipython3",
   "version": "3.13.2"
  }
 },
 "nbformat": 4,
 "nbformat_minor": 5
}
