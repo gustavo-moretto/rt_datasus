{
 "cells": [
  {
   "cell_type": "code",
   "execution_count": 31,
   "id": "9dface29",
   "metadata": {},
   "outputs": [
    {
     "name": "stdout",
     "output_type": "stream",
     "text": [
      "{'0304010367': 'RADIOTERAPIA DE CABEÇA E PESCOÇO', '030401037': '5-RADIOTERAPIA DO APARELHO DIGESTIVO', '030401038': '3-RADIOTERAPIA DE TRAQUEIA, BRÔNQUIO, PULMÃO, PLEURA E MEDIASTINO', '030401039': '1-RADIOTERAPIA DE OSSOS/CARTILAGENS/PARTES MOLES', '030401040': '5-RADIOTERAPIA DE PELE', '030401041': '3-RADIOTERAPIA DE MAMA', '030401042': '1-RADIOTERAPIA DE CÂNCER GINECOLÓGICO', '030401043': '0-BRAQUITERAPIA GINECOLÓGICA', '030401044': '8-RADIOTERAPIA DE PÊNIS', '030401045': '6-RADIOTERAPIA DE PRÓSTATA', '0304010464': 'BRAQUITERAPIA DE PRÓSTATA', '030401047': '2-RADIOTERAPIA DO APARELHO URINÁRIO', '030401048': '0 RADIOTERAPIA DE OLHOS E ANEXOS'}\n"
     ]
    }
   ],
   "source": [
    "# Raw input lines\n",
    "lines = [\n",
    "    \"03.04.01.036-7 - RADIOTERAPIA DE CABEÇA E PESCOÇO\",\n",
    "    \"03.04.01.037-5-RADIOTERAPIA DO APARELHO DIGESTIVO\",\n",
    "    \"03.04.01.038-3-RADIOTERAPIA DE TRAQUEIA, BRÔNQUIO, PULMÃO, PLEURA E MEDIASTINO\",\n",
    "    \"03.04.01.039-1-RADIOTERAPIA DE OSSOS/CARTILAGENS/PARTES MOLES\",\n",
    "    \"03.04.01.040-5-RADIOTERAPIA DE PELE\",\n",
    "    \"03.04.01.041-3-RADIOTERAPIA DE MAMA\",\n",
    "    \"03.04.01.042-1-RADIOTERAPIA DE CÂNCER GINECOLÓGICO\",\n",
    "    \"03.04.01.043-0-BRAQUITERAPIA GINECOLÓGICA\",\n",
    "    \"03.04.01.044-8-RADIOTERAPIA DE PÊNIS\",\n",
    "    \"03.04.01.045-6-RADIOTERAPIA DE PRÓSTATA\",\n",
    "    \"03.04.01.046-4 - BRAQUITERAPIA DE PRÓSTATA\",\n",
    "    \"03.04.01.047-2-RADIOTERAPIA DO APARELHO URINÁRIO\",\n",
    "    \"03.04.01.048-0 RADIOTERAPIA DE OLHOS E ANEXOS\"\n",
    "]\n",
    "\n",
    "# Dictionary to hold results\n",
    "procedure_dict = {}\n",
    "\n",
    "for line in lines:\n",
    "    # Normalize separator by adding spaces around dash if missing\n",
    "    if ' - ' not in line:\n",
    "        line = line.replace('-', ' - ', 1)\n",
    "    \n",
    "    # Split code and description\n",
    "    parts = line.split(' - ')\n",
    "    if len(parts) == 2:\n",
    "        code = parts[0].replace(\".\", \"\").replace(\"-\", \"\")\n",
    "        description = parts[1].strip()\n",
    "        procedure_dict[code] = description\n",
    "\n",
    "# Display the result\n",
    "print(procedure_dict)"
   ]
  },
  {
   "cell_type": "code",
   "execution_count": null,
   "id": "908441d6",
   "metadata": {},
   "outputs": [],
   "source": [
    "{'0304010367': 'RADIOTERAPIA DE CABEÇA E PESCOÇO', '0304010375': 'RADIOTERAPIA DO APARELHO DIGESTIVO', '0304010383': 'RADIOTERAPIA DE TRAQUEIA, BRÔNQUIO, PULMÃO, PLEURA E MEDIASTINO', '0304010391': 'RADIOTERAPIA DE OSSOS/CARTILAGENS/PARTES MOLES', '0304010405': 'RADIOTERAPIA DE PELE', '0304010413': 'RADIOTERAPIA DE MAMA', '0304010421': 'RADIOTERAPIA DE CÂNCER GINECOLÓGICO', '0304010430': 'BRAQUITERAPIA GINECOLÓGICA', '0304010448': 'RADIOTERAPIA DE PÊNIS', '0304010456': 'RADIOTERAPIA DE PRÓSTATA', '0304010464': 'BRAQUITERAPIA DE PRÓSTATA', '0304010472': 'RADIOTERAPIA DO APARELHO URINÁRIO', '0304010480': '0 RADIOTERAPIA DE OLHOS E ANEXOS'"
   ]
  },
  {
   "cell_type": "code",
   "execution_count": 24,
   "id": "001e2056",
   "metadata": {},
   "outputs": [
    {
     "data": {
      "text/plain": [
       "'03.04.01.036-7 - RADIOTERAPIA DE CABEÇA E PESCOÇO'"
      ]
     },
     "execution_count": 24,
     "metadata": {},
     "output_type": "execute_result"
    }
   ],
   "source": [
    "tables[3].loc[0][1]"
   ]
  },
  {
   "cell_type": "code",
   "execution_count": null,
   "id": "c2b143fb",
   "metadata": {},
   "outputs": [],
   "source": []
  }
 ],
 "metadata": {
  "kernelspec": {
   "display_name": "Python 3",
   "language": "python",
   "name": "python3"
  },
  "language_info": {
   "codemirror_mode": {
    "name": "ipython",
    "version": 3
   },
   "file_extension": ".py",
   "mimetype": "text/x-python",
   "name": "python",
   "nbconvert_exporter": "python",
   "pygments_lexer": "ipython3",
   "version": "3.13.2"
  }
 },
 "nbformat": 4,
 "nbformat_minor": 5
}
