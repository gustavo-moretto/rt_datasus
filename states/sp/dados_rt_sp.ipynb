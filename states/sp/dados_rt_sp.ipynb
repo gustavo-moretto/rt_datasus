{
 "cells": [
  {
   "cell_type": "markdown",
   "id": "f7f64a8e",
   "metadata": {},
   "source": [
    "# 0.0 Imports and Help Functions"
   ]
  },
  {
   "cell_type": "code",
   "execution_count": 1,
   "id": "a3113d12",
   "metadata": {},
   "outputs": [
    {
     "ename": "ModuleNotFoundError",
     "evalue": "No module named 'lxml'",
     "output_type": "error",
     "traceback": [
      "\u001b[31m---------------------------------------------------------------------------\u001b[39m",
      "\u001b[31mModuleNotFoundError\u001b[39m                       Traceback (most recent call last)",
      "\u001b[36mCell\u001b[39m\u001b[36m \u001b[39m\u001b[32mIn[1]\u001b[39m\u001b[32m, line 18\u001b[39m\n\u001b[32m     16\u001b[39m \u001b[38;5;28;01mimport\u001b[39;00m\u001b[38;5;250m \u001b[39m\u001b[34;01mrequests\u001b[39;00m\n\u001b[32m     17\u001b[39m \u001b[38;5;28;01mfrom\u001b[39;00m\u001b[38;5;250m \u001b[39m\u001b[34;01mbs4\u001b[39;00m\u001b[38;5;250m \u001b[39m\u001b[38;5;28;01mimport\u001b[39;00m BeautifulSoup\n\u001b[32m---> \u001b[39m\u001b[32m18\u001b[39m \u001b[38;5;28;01mfrom\u001b[39;00m\u001b[38;5;250m \u001b[39m\u001b[34;01mlxml\u001b[39;00m\u001b[38;5;250m \u001b[39m\u001b[38;5;28;01mimport\u001b[39;00m html\n",
      "\u001b[31mModuleNotFoundError\u001b[39m: No module named 'lxml'"
     ]
    }
   ],
   "source": [
    "# Imports\n",
    "import pandas as pd\n",
    "import numpy as np\n",
    "\n",
    "# Demographics\n",
    "import geopandas as gpd\n",
    "import brazilcep\n",
    "\n",
    "import matplotlib.pyplot as plt\n",
    "import seaborn as sns\n",
    "\n",
    "from IPython.core.display import HTML\n",
    "from IPython.display import Image\n",
    "\n",
    "# Web scraping\n",
    "import requests\n",
    "from bs4 import BeautifulSoup\n",
    "from lxml import html"
   ]
  },
  {
   "cell_type": "code",
   "execution_count": null,
   "id": "05c6d508",
   "metadata": {},
   "outputs": [],
   "source": [
    "# Set the option to display all columns in the DataFrame\n",
    "pd.set_option('display.max_columns', None)"
   ]
  },
  {
   "cell_type": "code",
   "execution_count": null,
   "id": "c906652f",
   "metadata": {},
   "outputs": [
    {
     "data": {
      "text/html": [
       "<style>.container { width:100% !important; }</style>"
      ],
      "text/plain": [
       "<IPython.core.display.HTML object>"
      ]
     },
     "metadata": {},
     "output_type": "display_data"
    }
   ],
   "source": [
    "def jupyter_settings():\n",
    "    %matplotlib inline\n",
    "    \n",
    "    plt.style.use( 'bmh' )\n",
    "    plt.rcParams['figure.figsize'] = [25, 12]\n",
    "    plt.rcParams['font.size'] = 24\n",
    "    \n",
    "    display( HTML( '<style>.container { width:100% !important; }</style>') )\n",
    "    pd.options.display.max_columns = None\n",
    "    pd.options.display.max_rows = None\n",
    "    pd.set_option( 'display.expand_frame_repr', False )\n",
    "    \n",
    "    sns.set()\n",
    "\n",
    "jupyter_settings()"
   ]
  },
  {
   "cell_type": "markdown",
   "id": "738e4c37",
   "metadata": {},
   "source": [
    "# 1. Loading Data"
   ]
  },
  {
   "cell_type": "markdown",
   "id": "40c0c210",
   "metadata": {},
   "source": [
    "## 1.1 Loading"
   ]
  },
  {
   "cell_type": "code",
   "execution_count": 2,
   "id": "9c51e684",
   "metadata": {},
   "outputs": [
    {
     "data": {
      "text/html": [
       "<div>\n",
       "<style scoped>\n",
       "    .dataframe tbody tr th:only-of-type {\n",
       "        vertical-align: middle;\n",
       "    }\n",
       "\n",
       "    .dataframe tbody tr th {\n",
       "        vertical-align: top;\n",
       "    }\n",
       "\n",
       "    .dataframe thead th {\n",
       "        text-align: right;\n",
       "    }\n",
       "</style>\n",
       "<table border=\"1\" class=\"dataframe\">\n",
       "  <thead>\n",
       "    <tr style=\"text-align: right;\">\n",
       "      <th></th>\n",
       "      <th>AP_MVM</th>\n",
       "      <th>AP_CONDIC</th>\n",
       "      <th>AP_GESTAO</th>\n",
       "      <th>AP_CODUNI</th>\n",
       "      <th>AP_AUTORIZ</th>\n",
       "      <th>AP_CMP</th>\n",
       "      <th>AP_PRIPAL</th>\n",
       "      <th>AP_VL_AP</th>\n",
       "      <th>AP_UFMUN</th>\n",
       "      <th>AP_TPUPS</th>\n",
       "      <th>...</th>\n",
       "      <th>AR_NUMC1</th>\n",
       "      <th>AR_INIAR1</th>\n",
       "      <th>AR_INIAR2</th>\n",
       "      <th>AR_INIAR3</th>\n",
       "      <th>AR_FIMAR1</th>\n",
       "      <th>AR_FIMAR2</th>\n",
       "      <th>AR_FIMAR3</th>\n",
       "      <th>AR_NUMC2</th>\n",
       "      <th>AR_NUMC3</th>\n",
       "      <th>AP_NATJUR</th>\n",
       "    </tr>\n",
       "  </thead>\n",
       "  <tbody>\n",
       "    <tr>\n",
       "      <th>0</th>\n",
       "      <td>200801</td>\n",
       "      <td>EP</td>\n",
       "      <td>350000</td>\n",
       "      <td>2030705</td>\n",
       "      <td>3508205721108</td>\n",
       "      <td>200801</td>\n",
       "      <td>0304010090</td>\n",
       "      <td>744.16</td>\n",
       "      <td>354140</td>\n",
       "      <td>39</td>\n",
       "      <td>...</td>\n",
       "      <td>072</td>\n",
       "      <td>20080102</td>\n",
       "      <td>20080102</td>\n",
       "      <td>NaN</td>\n",
       "      <td>20080228</td>\n",
       "      <td>20080207</td>\n",
       "      <td>NaN</td>\n",
       "      <td>021</td>\n",
       "      <td>000</td>\n",
       "      <td>NaN</td>\n",
       "    </tr>\n",
       "    <tr>\n",
       "      <th>1</th>\n",
       "      <td>200801</td>\n",
       "      <td>EP</td>\n",
       "      <td>350000</td>\n",
       "      <td>2025507</td>\n",
       "      <td>3508205573565</td>\n",
       "      <td>200801</td>\n",
       "      <td>0304010090</td>\n",
       "      <td>749.64</td>\n",
       "      <td>352900</td>\n",
       "      <td>05</td>\n",
       "      <td>...</td>\n",
       "      <td>36</td>\n",
       "      <td>20080123</td>\n",
       "      <td>20080123</td>\n",
       "      <td>NaN</td>\n",
       "      <td>20080331</td>\n",
       "      <td>20080331</td>\n",
       "      <td>NaN</td>\n",
       "      <td>36</td>\n",
       "      <td>NaN</td>\n",
       "      <td>NaN</td>\n",
       "    </tr>\n",
       "    <tr>\n",
       "      <th>2</th>\n",
       "      <td>200801</td>\n",
       "      <td>EP</td>\n",
       "      <td>350000</td>\n",
       "      <td>2030705</td>\n",
       "      <td>3508205718842</td>\n",
       "      <td>200801</td>\n",
       "      <td>0304010090</td>\n",
       "      <td>1475.8</td>\n",
       "      <td>354140</td>\n",
       "      <td>39</td>\n",
       "      <td>...</td>\n",
       "      <td>116</td>\n",
       "      <td>20080102</td>\n",
       "      <td>NaN</td>\n",
       "      <td>NaN</td>\n",
       "      <td>20080220</td>\n",
       "      <td>NaN</td>\n",
       "      <td>NaN</td>\n",
       "      <td>000</td>\n",
       "      <td>000</td>\n",
       "      <td>NaN</td>\n",
       "    </tr>\n",
       "    <tr>\n",
       "      <th>3</th>\n",
       "      <td>200801</td>\n",
       "      <td>EP</td>\n",
       "      <td>350000</td>\n",
       "      <td>2773171</td>\n",
       "      <td>3508204191613</td>\n",
       "      <td>200801</td>\n",
       "      <td>0304010286</td>\n",
       "      <td>731.64</td>\n",
       "      <td>353060</td>\n",
       "      <td>39</td>\n",
       "      <td>...</td>\n",
       "      <td>070</td>\n",
       "      <td>20080101</td>\n",
       "      <td>NaN</td>\n",
       "      <td>NaN</td>\n",
       "      <td>20080331</td>\n",
       "      <td>NaN</td>\n",
       "      <td>NaN</td>\n",
       "      <td>000</td>\n",
       "      <td>000</td>\n",
       "      <td>NaN</td>\n",
       "    </tr>\n",
       "    <tr>\n",
       "      <th>4</th>\n",
       "      <td>200801</td>\n",
       "      <td>EP</td>\n",
       "      <td>350000</td>\n",
       "      <td>2773171</td>\n",
       "      <td>3508204191712</td>\n",
       "      <td>200801</td>\n",
       "      <td>0304010294</td>\n",
       "      <td>396.0</td>\n",
       "      <td>353060</td>\n",
       "      <td>39</td>\n",
       "      <td>...</td>\n",
       "      <td>140</td>\n",
       "      <td>20080101</td>\n",
       "      <td>NaN</td>\n",
       "      <td>NaN</td>\n",
       "      <td>20080331</td>\n",
       "      <td>NaN</td>\n",
       "      <td>NaN</td>\n",
       "      <td>000</td>\n",
       "      <td>000</td>\n",
       "      <td>NaN</td>\n",
       "    </tr>\n",
       "  </tbody>\n",
       "</table>\n",
       "<p>5 rows × 74 columns</p>\n",
       "</div>"
      ],
      "text/plain": [
       "   AP_MVM AP_CONDIC AP_GESTAO AP_CODUNI     AP_AUTORIZ  AP_CMP   AP_PRIPAL  \\\n",
       "0  200801        EP    350000   2030705  3508205721108  200801  0304010090   \n",
       "1  200801        EP    350000   2025507  3508205573565  200801  0304010090   \n",
       "2  200801        EP    350000   2030705  3508205718842  200801  0304010090   \n",
       "3  200801        EP    350000   2773171  3508204191613  200801  0304010286   \n",
       "4  200801        EP    350000   2773171  3508204191712  200801  0304010294   \n",
       "\n",
       "  AP_VL_AP AP_UFMUN AP_TPUPS  ... AR_NUMC1 AR_INIAR1 AR_INIAR2 AR_INIAR3  \\\n",
       "0   744.16   354140       39  ...      072  20080102  20080102       NaN   \n",
       "1   749.64   352900       05  ...       36  20080123  20080123       NaN   \n",
       "2   1475.8   354140       39  ...      116  20080102       NaN       NaN   \n",
       "3   731.64   353060       39  ...      070  20080101       NaN       NaN   \n",
       "4    396.0   353060       39  ...      140  20080101       NaN       NaN   \n",
       "\n",
       "  AR_FIMAR1 AR_FIMAR2 AR_FIMAR3 AR_NUMC2 AR_NUMC3 AP_NATJUR  \n",
       "0  20080228  20080207       NaN      021      000       NaN  \n",
       "1  20080331  20080331       NaN       36      NaN       NaN  \n",
       "2  20080220       NaN       NaN      000      000       NaN  \n",
       "3  20080331       NaN       NaN      000      000       NaN  \n",
       "4  20080331       NaN       NaN      000      000       NaN  \n",
       "\n",
       "[5 rows x 74 columns]"
      ]
     },
     "execution_count": 2,
     "metadata": {},
     "output_type": "execute_result"
    }
   ],
   "source": [
    "dados_rt = pd.read_csv('sp.csv', dtype=object)\n",
    "dados_rt.head()"
   ]
  },
  {
   "cell_type": "markdown",
   "id": "c0abb76c",
   "metadata": {},
   "source": [
    "## 1.1 Renaming columns"
   ]
  },
  {
   "cell_type": "code",
   "execution_count": 3,
   "id": "c59d26fb",
   "metadata": {},
   "outputs": [],
   "source": [
    "dados_sp_rt1 = dados_rt.copy()"
   ]
  },
  {
   "cell_type": "code",
   "execution_count": 4,
   "id": "3b120442",
   "metadata": {},
   "outputs": [],
   "source": [
    "# First we drop the column AP_SMRD\n",
    "dados_sp_rt1 = dados_sp_rt1.drop(columns=['AR_SMRD'])"
   ]
  },
  {
   "cell_type": "code",
   "execution_count": 5,
   "id": "065d7fb5",
   "metadata": {},
   "outputs": [],
   "source": [
    "# renaming columns\n",
    "dict_rename = {\n",
    "    'AP_MVM': 'data_processamento',\n",
    "    'AP_CONDIC': 'sigla_tipo_gestao',\n",
    "    'AP_GESTAO': 'codigo_uf_municipio_gestao',\n",
    "    'AP_CODUNI': 'codigo_cnes',\n",
    "    'AP_AUTORIZ': 'numero_apac_autorizacao',\n",
    "    'AP_CMP': 'data_atendimento_competencia',\n",
    "    'AP_PRIPAL': 'procedimento_principal_apac',\n",
    "    'AP_VL_AP': 'valor_total_apac_aprovado',\n",
    "    'AP_UFMUN': 'codigo_uf_municipio_estabelecimento',\n",
    "    'AP_TPUPS': 'tipo_estabelecimento',\n",
    "    'AP_TIPPRE': 'tipo_prestador',\n",
    "    'AP_MN_IND': 'estabelecimento_mantido_individual',\n",
    "    'AP_CNPJCPF': 'cnpj_estabelecimento_executante',\n",
    "    'AP_CNPJMNT': 'cnpj_mantenedora',\n",
    "    'AP_CNSPCN': 'numero_cns_paciente',\n",
    "    'AP_COIDADE': 'codigo_idade_paciente',\n",
    "    'AP_NUIDADE': 'idade_paciente',\n",
    "    'AP_SEXO': 'sexo_paciente',\n",
    "    'AP_RACACOR': 'raca_cor_paciente',\n",
    "    'AP_MUNPCN': 'codigo_uf_municipio_residencia_paciente',\n",
    "    'AP_UFNACIO': 'nacionalidade_paciente',\n",
    "    'AP_CEPPCN': 'cep_paciente',\n",
    "    'AP_UFDIF': 'uf_residencia_diferente_uf_estabelecimento',\n",
    "    'AP_MNDIF': 'municipio_residencia_diferente_municipio_estabelecimento',\n",
    "    'AP_DTINIC': 'data_inicio_validade',\n",
    "    'AP_DTFIM': 'data_fim_validade',\n",
    "    'AP_TPATEN': 'tipo_atendimento_apac',\n",
    "    'AP_TPAPAC': 'tipo_apac',\n",
    "    'AP_MOTSAI': 'motivo_saida_permanencia',\n",
    "    'AP_OBITO': 'indicador_obito',\n",
    "    'AP_ENCERR': 'indicador_encerramento',\n",
    "    'AP_PERMAN': 'indicador_permanencia',\n",
    "    'AP_ALTA': 'indicador_alta',\n",
    "    'AP_TRANSF': 'indicador_transferencia',\n",
    "    'AP_DTOCOR': 'data_ocorrencia',\n",
    "    'AP_CODEMI': 'codigo_orgao_emissor',\n",
    "    'AP_CATEND': 'carater_atendimento',\n",
    "    'AP_APACANT': 'numero_apac_anterior',\n",
    "    'AP_UNISOL': 'codigo_cnes_estabelecimento_solicitante',\n",
    "    'AP_DTSOLIC': 'data_solicitacao',\n",
    "    'AP_DTAUT': 'data_autorizacao',\n",
    "    'AP_CIDCAS': 'cid_causas_associadas',\n",
    "    'AP_CIDPRI': 'cid_principal',\n",
    "    'AP_CIDSEC': 'cid_secundario',\n",
    "    'AP_ETNIA': 'etnia_paciente',\n",
    "    'AR_SMRD': 'somatoria_multiplos_registros_dados', # Inferred from context, as specific description was missing for AR_SMRD [cite: 145]\n",
    "    'AR_CID10': 'cid_10_topografia',\n",
    "    'AR_LINFIN': 'linfonodos_regionais_invadidos',\n",
    "    'AR_ESTADI': 'estadio_uicc',\n",
    "    'AR_GRAHIS': 'grau_histopatologico',\n",
    "    'AR_DTIDEN': 'data_identificacao_patologica',\n",
    "    'AR_TRANTE': 'tratamentos_anteriores',\n",
    "    'AR_CIDINI1': 'cid_1_tratamento_anterior',\n",
    "    'AR_DTINI1': 'data_inicio_1_tratamento_anterior',\n",
    "    'AR_CIDINI2': 'cid_2_tratamento_anterior',\n",
    "    'AR_DTINI2': 'data_inicio_2_tratamento_anterior',\n",
    "    'AR_CIDINI3': 'cid_3_tratamento_anterior',\n",
    "    'AR_DTINI3': 'data_inicio_3_tratamento_anterior',\n",
    "    'AR_CONTTR': 'continuidade_tratamento',\n",
    "    'AR_DTINTR': 'data_inicio_tratamento_solicitado',\n",
    "    'AR_FINALI': 'finalidade_tratamento',\n",
    "    'AR_CIDTR1': 'cid_topografico_1',\n",
    "    'AR_CIDTR2': 'cid_topografico_2',\n",
    "    'AR_CIDTR3': 'cid_topografico_3',\n",
    "    'AR_NUMC1': 'numero_campo_insercoes_1',\n",
    "    'AR_INIAR1': 'data_inicio_1',\n",
    "    'AR_INIAR2': 'data_inicio_2',\n",
    "    'AR_INIAR3': 'data_inicio_3',\n",
    "    'AR_FIMAR1': 'data_fim_1',\n",
    "    'AR_FIMAR2': 'data_fim_2',\n",
    "    'AR_FIMAR3': 'data_fim_3',\n",
    "    'AR_NUMC2': 'numero_campo_insercoes_2',\n",
    "    'AR_NUMC3': 'numero_campo_insercoes_3',\n",
    "    'AP_NATJUR': 'codigo_natureza_juridica'\n",
    "}\n",
    "\n",
    "dados_sp_rt1 = dados_sp_rt1.rename(columns=dict_rename)"
   ]
  },
  {
   "cell_type": "markdown",
   "id": "90be5814",
   "metadata": {},
   "source": [
    "## 1.2 Mapping apac procedures"
   ]
  },
  {
   "cell_type": "code",
   "execution_count": 6,
   "id": "f7d19317",
   "metadata": {},
   "outputs": [],
   "source": [
    "dados_sp_rt2 = dados_sp_rt1.copy()"
   ]
  },
  {
   "cell_type": "code",
   "execution_count": 7,
   "id": "a2f24dc9",
   "metadata": {},
   "outputs": [],
   "source": [
    "# Changing column \"procedimento_principal_apac\" to object\n",
    "# dados_sp_rt2[\"procedimento_principal_apac\"] = dados_sp_rt2[\"procedimento_principal_apac\"].astype(str).apply(lambda x: '0' + x[0:9])"
   ]
  },
  {
   "cell_type": "code",
   "execution_count": 8,
   "id": "7d2c5952",
   "metadata": {},
   "outputs": [],
   "source": [
    "# Dictionary with the mapping of APAC procedures\n",
    "apac_procedures = {'0304010014': 'Betaterapia dérmica', '0304010022': 'Betaterapia oftálmica', '0304010030': 'Betaterapia para profilaxia de pterígio', \n",
    "                        '0304010049': 'Braquiterapia', '0304010057': 'Braquiterapia com fios de iridium', '0304010065': 'Braquiterapia com Iodo 125 / Ouro 198', \n",
    "                        '0304010073': 'Braquiterapia de alta taxa de dose', '0304010081': 'Verificação por imagem em radioterapia', '0304010090': 'Cobaltoterapia', \n",
    "                        '0304010103': 'Implantação de halo para radiocirurgia', '0304010120': 'Irradiação de corpo inteiro pré-transplante de medula óssea', \n",
    "                        '0304010138': 'Irradiação de meio corpo', '0304010146': 'Irradiação de pele total', '0304010154': 'Máscara ou imobilização personalizada', \n",
    "                        '0304010162': 'Moldagem em colo e/ou corpo do útero', '0304010189': 'Planejamento complexo', '0304010197': 'Planejamento de braquiterapia de alta taxa de dose', \n",
    "                        '0304010200': 'Planejamento simples', '0304010219': 'Radiocirurgia', '0304010235': 'Radioterapia de doença ou condição benigna', \n",
    "                        '0304010243': 'Radioterapia estereotática fracionada', '0304010260': 'Roentgenterapia', '0304010286': 'Radioterapia com acelerador linear só de fótons', \n",
    "                        '0304010294': 'Radioterapia com acelerador linear de fótons e elétrons', '0304010308': 'Colimação personalizada', '0304010316': 'Planejamento para radioterapia conformada tridimensional', \n",
    "                        '0304010324': 'Moldagem/Implante em mucosa (por tratamento completo)', '0304010332': 'Moldagem/Implante em pele/mucosa (por tratamento completo)',\n",
    "                        '0304010367': 'Radioterapia de Cabeça e Pescoço', '0304010367': 'RADIOTERAPIA DE CABEÇA E PESCOÇO', '030401037': 'RADIOTERAPIA DO APARELHO DIGESTIVO', \n",
    "                        '0304010367': 'RADIOTERAPIA DE CABEÇA E PESCOÇO', '0304010375': 'RADIOTERAPIA DO APARELHO DIGESTIVO', '0304010383': 'RADIOTERAPIA DE TRAQUEIA, BRÔNQUIO, PULMÃO, PLEURA E MEDIASTINO', \n",
    "                        '0304010391': 'RADIOTERAPIA DE OSSOS/CARTILAGENS/PARTES MOLES', '0304010405': 'RADIOTERAPIA DE PELE', '0304010413': 'RADIOTERAPIA DE MAMA', '0304010421': 'RADIOTERAPIA DE CÂNCER GINECOLÓGICO', \n",
    "                        '0304010430': 'BRAQUITERAPIA GINECOLÓGICA', '0304010448': 'RADIOTERAPIA DE PÊNIS', '0304010456': 'RADIOTERAPIA DE PRÓSTATA', '0304010464': 'BRAQUITERAPIA DE PRÓSTATA', '0304010472': 'RADIOTERAPIA DO APARELHO URINÁRIO', \n",
    "                        '0304010480': 'RADIOTERAPIA DE OLHOS E ANEXOS'}\n",
    "\n",
    "dados_sp_rt2[\"procedimento_principal_apac_nome\"] = dados_sp_rt2[\"procedimento_principal_apac\"].map(apac_procedures)"
   ]
  },
  {
   "cell_type": "markdown",
   "id": "4f677b5e",
   "metadata": {},
   "source": [
    "## 1.3 Correcting type of data"
   ]
  },
  {
   "cell_type": "code",
   "execution_count": 9,
   "id": "3b8b6ed9",
   "metadata": {},
   "outputs": [],
   "source": [
    "dados_sp_rt3 = dados_sp_rt2.copy()"
   ]
  },
  {
   "cell_type": "code",
   "execution_count": 10,
   "id": "c706c28f",
   "metadata": {},
   "outputs": [],
   "source": [
    "# Type -> period\n",
    "period_list = ['data_processamento', 'data_atendimento_competencia']\n",
    "for period in period_list:\n",
    "    dados_sp_rt3[period] = pd.to_datetime(dados_sp_rt3[period], format='%Y%m').astype('period[M]')"
   ]
  },
  {
   "cell_type": "code",
   "execution_count": 11,
   "id": "c4639c7e",
   "metadata": {},
   "outputs": [],
   "source": [
    "# Type -> date\n",
    "date_list = ['data_inicio_validade', 'data_fim_validade', 'data_solicitacao', 'data_autorizacao', 'data_identificacao_patologica', \n",
    " 'data_inicio_1_tratamento_anterior', 'data_inicio_2_tratamento_anterior', 'data_inicio_3_tratamento_anterior', 'data_inicio_tratamento_solicitado',\n",
    " 'data_inicio_1', 'data_inicio_2', 'data_inicio_3', 'data_fim_1', 'data_fim_2', 'data_fim_3']\n",
    "\n",
    "for date in date_list:\n",
    "    dados_sp_rt3[date] = pd.to_datetime(dados_sp_rt3[date], format='%Y%m%d', errors='coerce')"
   ]
  },
  {
   "cell_type": "code",
   "execution_count": 12,
   "id": "69e49f45",
   "metadata": {},
   "outputs": [],
   "source": [
    "# Type -> float\n",
    "dados_sp_rt3['valor_total_apac_aprovado'] = dados_sp_rt3['valor_total_apac_aprovado'].astype(float)"
   ]
  },
  {
   "cell_type": "markdown",
   "id": "7897626a",
   "metadata": {},
   "source": [
    "## 1.4 Dropping columns and creating column CID10 with just 2 digits"
   ]
  },
  {
   "cell_type": "code",
   "execution_count": 13,
   "id": "64a3cbb8",
   "metadata": {},
   "outputs": [],
   "source": [
    "# Dropping columns\n",
    "dados_sp_rt4 = dados_sp_rt3.drop(['numero_apac_autorizacao', 'cnpj_mantenedora', 'numero_cns_paciente', 'cid_causas_associadas', 'numero_campo_insercoes_1', 'numero_campo_insercoes_2', 'numero_campo_insercoes_3'], axis=1).copy()"
   ]
  },
  {
   "cell_type": "code",
   "execution_count": 14,
   "id": "49c604ac",
   "metadata": {},
   "outputs": [],
   "source": [
    "# Columns CID10\n",
    "dados_sp_rt4['cid10'] = dados_sp_rt4['cid_principal'].apply(lambda x: x[:3])"
   ]
  },
  {
   "cell_type": "markdown",
   "id": "85f060f8",
   "metadata": {},
   "source": [
    "## 1.5 Creating column sus_paulista"
   ]
  },
  {
   "cell_type": "code",
   "execution_count": 82,
   "id": "673b7ebc",
   "metadata": {},
   "outputs": [],
   "source": [
    "# Transformig data in a dictionary\n",
    "sus_paulista = pd.read_csv('.\\\\arquivos_auxiliares\\\\tables\\\\sus_paulista.csv', dtype=object)\n",
    "\n",
    "sus_paulista['Valor'] = sus_paulista['Valor'].astype(float)\n",
    "\n",
    "sus_paulista_dict = sus_paulista.set_index('Unnamed: 0')['Valor'].to_dict()"
   ]
  },
  {
   "cell_type": "code",
   "execution_count": 16,
   "id": "35d9d519",
   "metadata": {},
   "outputs": [],
   "source": [
    "# Creating column sus_paulista\n",
    "dados_sp_rt4['valor_total_apac_aprovado_sus_paulista'] = np.where(\n",
    "    dados_sp_rt4['data_processamento'] >= '2023-08',\n",
    "    dados_sp_rt4['procedimento_principal_apac'].map(sus_paulista_dict), 0)"
   ]
  },
  {
   "cell_type": "markdown",
   "id": "f94d8bf8",
   "metadata": {},
   "source": [
    "## 1.6 Creating column city name"
   ]
  },
  {
   "cell_type": "code",
   "execution_count": 99,
   "id": "784cb774",
   "metadata": {},
   "outputs": [],
   "source": [
    "# Creating dict to map\n",
    "municipios_sp = pd.read_excel('.\\\\arquivos_auxiliares\\\\tables\\\\codigosdosmunicipios_sp.xls', dtype=object)\n",
    "\n",
    "# Excluding last character to match with main data\n",
    "municipios_sp['cod'] = municipios_sp['Código do Município'].astype(str).apply(lambda x: x[0:6])\n",
    "\n",
    "municipios_sp_dict = municipios_sp.set_index('cod')['Município'].to_dict()\n",
    "\n",
    "# Creating column city_cnes -> institution's city\n",
    "dados_sp_rt4['city_cnes'] = dados_sp_rt4['codigo_uf_municipio_estabelecimento'].map(municipios_sp_dict)\n",
    "\n",
    "# Creating column patient_city\n",
    "dados_sp_rt4['city_patient'] = dados_sp_rt4['codigo_uf_municipio_residencia_paciente'].map(municipios_sp_dict)\n"
   ]
  },
  {
   "cell_type": "markdown",
   "id": "4f857fa2",
   "metadata": {},
   "source": [
    "## 1.7 Creating column year"
   ]
  },
  {
   "cell_type": "code",
   "execution_count": 100,
   "id": "e95e42a5",
   "metadata": {},
   "outputs": [],
   "source": [
    "dados_sp_rt4['year'] = dados_sp_rt4['data_processamento'].dt.year"
   ]
  }
 ],
 "metadata": {
  "kernelspec": {
   "display_name": "datasus",
   "language": "python",
   "name": "python3"
  },
  "language_info": {
   "codemirror_mode": {
    "name": "ipython",
    "version": 3
   },
   "file_extension": ".py",
   "mimetype": "text/x-python",
   "name": "python",
   "nbconvert_exporter": "python",
   "pygments_lexer": "ipython3",
   "version": "3.13.2"
  }
 },
 "nbformat": 4,
 "nbformat_minor": 5
}
