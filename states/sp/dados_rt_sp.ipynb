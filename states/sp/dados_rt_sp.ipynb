{
 "cells": [
  {
   "cell_type": "markdown",
   "id": "f7f64a8e",
   "metadata": {},
   "source": [
    "# 0.0 Imports and Help Functions"
   ]
  },
  {
   "cell_type": "code",
   "execution_count": 18,
   "id": "a3113d12",
   "metadata": {},
   "outputs": [],
   "source": [
    "# Imports\n",
    "import pandas as pd\n",
    "import numpy as np\n",
    "\n",
    "# Demographics\n",
    "import geopandas as gpd\n",
    "import brazilcep\n",
    "\n",
    "import matplotlib.pyplot as plt\n",
    "import seaborn as sns\n",
    "import plotly.express as px\n",
    "\n",
    "from IPython.core.display import HTML\n",
    "from IPython.display import Image\n",
    "\n",
    "# Web scraping\n",
    "import requests\n",
    "from bs4 import BeautifulSoup"
   ]
  },
  {
   "cell_type": "code",
   "execution_count": 19,
   "id": "05c6d508",
   "metadata": {},
   "outputs": [],
   "source": [
    "# Set the option to display all columns in the DataFrame\n",
    "pd.set_option('display.max_columns', None)"
   ]
  },
  {
   "cell_type": "code",
   "execution_count": 20,
   "id": "c906652f",
   "metadata": {},
   "outputs": [
    {
     "data": {
      "text/html": [
       "<style>.container { width:100% !important; }</style>"
      ],
      "text/plain": [
       "<IPython.core.display.HTML object>"
      ]
     },
     "metadata": {},
     "output_type": "display_data"
    }
   ],
   "source": [
    "def jupyter_settings():\n",
    "    %matplotlib inline\n",
    "    \n",
    "    plt.style.use( 'bmh' )\n",
    "    plt.rcParams['figure.figsize'] = [12, 8]\n",
    "    plt.rcParams['font.size'] = 24\n",
    "    \n",
    "    display( HTML( '<style>.container { width:100% !important; }</style>') )\n",
    "    pd.options.display.max_columns = None\n",
    "    pd.options.display.max_rows = None\n",
    "    pd.set_option( 'display.expand_frame_repr', False )\n",
    "    \n",
    "    sns.set()\n",
    "\n",
    "jupyter_settings()"
   ]
  },
  {
   "cell_type": "markdown",
   "id": "738e4c37",
   "metadata": {},
   "source": [
    "# 1. Loading Data"
   ]
  },
  {
   "cell_type": "markdown",
   "id": "40c0c210",
   "metadata": {},
   "source": [
    "## 1.1 Loading"
   ]
  },
  {
   "cell_type": "code",
   "execution_count": 21,
   "id": "9c51e684",
   "metadata": {},
   "outputs": [
    {
     "data": {
      "text/html": [
       "<div>\n",
       "<style scoped>\n",
       "    .dataframe tbody tr th:only-of-type {\n",
       "        vertical-align: middle;\n",
       "    }\n",
       "\n",
       "    .dataframe tbody tr th {\n",
       "        vertical-align: top;\n",
       "    }\n",
       "\n",
       "    .dataframe thead th {\n",
       "        text-align: right;\n",
       "    }\n",
       "</style>\n",
       "<table border=\"1\" class=\"dataframe\">\n",
       "  <thead>\n",
       "    <tr style=\"text-align: right;\">\n",
       "      <th></th>\n",
       "      <th>AP_MVM</th>\n",
       "      <th>AP_CONDIC</th>\n",
       "      <th>AP_GESTAO</th>\n",
       "      <th>AP_CODUNI</th>\n",
       "      <th>AP_AUTORIZ</th>\n",
       "      <th>AP_CMP</th>\n",
       "      <th>AP_PRIPAL</th>\n",
       "      <th>AP_VL_AP</th>\n",
       "      <th>AP_UFMUN</th>\n",
       "      <th>AP_TPUPS</th>\n",
       "      <th>AP_TIPPRE</th>\n",
       "      <th>AP_MN_IND</th>\n",
       "      <th>AP_CNPJCPF</th>\n",
       "      <th>AP_CNPJMNT</th>\n",
       "      <th>AP_CNSPCN</th>\n",
       "      <th>AP_COIDADE</th>\n",
       "      <th>AP_NUIDADE</th>\n",
       "      <th>AP_SEXO</th>\n",
       "      <th>AP_RACACOR</th>\n",
       "      <th>AP_MUNPCN</th>\n",
       "      <th>AP_UFNACIO</th>\n",
       "      <th>AP_CEPPCN</th>\n",
       "      <th>AP_UFDIF</th>\n",
       "      <th>AP_MNDIF</th>\n",
       "      <th>AP_DTINIC</th>\n",
       "      <th>AP_DTFIM</th>\n",
       "      <th>AP_TPATEN</th>\n",
       "      <th>AP_TPAPAC</th>\n",
       "      <th>AP_MOTSAI</th>\n",
       "      <th>AP_OBITO</th>\n",
       "      <th>AP_ENCERR</th>\n",
       "      <th>AP_PERMAN</th>\n",
       "      <th>AP_ALTA</th>\n",
       "      <th>AP_TRANSF</th>\n",
       "      <th>AP_DTOCOR</th>\n",
       "      <th>AP_CODEMI</th>\n",
       "      <th>AP_CATEND</th>\n",
       "      <th>AP_APACANT</th>\n",
       "      <th>AP_UNISOL</th>\n",
       "      <th>AP_DTSOLIC</th>\n",
       "      <th>AP_DTAUT</th>\n",
       "      <th>AP_CIDCAS</th>\n",
       "      <th>AP_CIDPRI</th>\n",
       "      <th>AP_CIDSEC</th>\n",
       "      <th>AP_ETNIA</th>\n",
       "      <th>AR_SMRD</th>\n",
       "      <th>AR_CID10</th>\n",
       "      <th>AR_LINFIN</th>\n",
       "      <th>AR_ESTADI</th>\n",
       "      <th>AR_GRAHIS</th>\n",
       "      <th>AR_DTIDEN</th>\n",
       "      <th>AR_TRANTE</th>\n",
       "      <th>AR_CIDINI1</th>\n",
       "      <th>AR_DTINI1</th>\n",
       "      <th>AR_CIDINI2</th>\n",
       "      <th>AR_DTINI2</th>\n",
       "      <th>AR_CIDINI3</th>\n",
       "      <th>AR_DTINI3</th>\n",
       "      <th>AR_CONTTR</th>\n",
       "      <th>AR_DTINTR</th>\n",
       "      <th>AR_FINALI</th>\n",
       "      <th>AR_CIDTR1</th>\n",
       "      <th>AR_CIDTR2</th>\n",
       "      <th>AR_CIDTR3</th>\n",
       "      <th>AR_NUMC1</th>\n",
       "      <th>AR_INIAR1</th>\n",
       "      <th>AR_INIAR2</th>\n",
       "      <th>AR_INIAR3</th>\n",
       "      <th>AR_FIMAR1</th>\n",
       "      <th>AR_FIMAR2</th>\n",
       "      <th>AR_FIMAR3</th>\n",
       "      <th>AR_NUMC2</th>\n",
       "      <th>AR_NUMC3</th>\n",
       "      <th>AP_NATJUR</th>\n",
       "    </tr>\n",
       "  </thead>\n",
       "  <tbody>\n",
       "    <tr>\n",
       "      <th>0</th>\n",
       "      <td>200801</td>\n",
       "      <td>EP</td>\n",
       "      <td>350000</td>\n",
       "      <td>2030705</td>\n",
       "      <td>3508205721108</td>\n",
       "      <td>200801</td>\n",
       "      <td>0304010090</td>\n",
       "      <td>744.16</td>\n",
       "      <td>354140</td>\n",
       "      <td>39</td>\n",
       "      <td>20</td>\n",
       "      <td>I</td>\n",
       "      <td>51397248000179</td>\n",
       "      <td>NaN</td>\n",
       "      <td>|{|{}{{{</td>\n",
       "      <td>4</td>\n",
       "      <td>65</td>\n",
       "      <td>M</td>\n",
       "      <td>01</td>\n",
       "      <td>354240</td>\n",
       "      <td>010</td>\n",
       "      <td>19570000</td>\n",
       "      <td>0</td>\n",
       "      <td>1</td>\n",
       "      <td>20080102</td>\n",
       "      <td>20080331</td>\n",
       "      <td>04</td>\n",
       "      <td>1</td>\n",
       "      <td>21</td>\n",
       "      <td>0</td>\n",
       "      <td>0</td>\n",
       "      <td>1</td>\n",
       "      <td>0</td>\n",
       "      <td>0</td>\n",
       "      <td>NaN</td>\n",
       "      <td>E350000016</td>\n",
       "      <td>NaN</td>\n",
       "      <td>0000000000000</td>\n",
       "      <td>0000000</td>\n",
       "      <td>20080102</td>\n",
       "      <td>NaN</td>\n",
       "      <td>0000</td>\n",
       "      <td>C12</td>\n",
       "      <td>0000</td>\n",
       "      <td>NaN</td>\n",
       "      <td>NaN</td>\n",
       "      <td>C12</td>\n",
       "      <td>3</td>\n",
       "      <td>3</td>\n",
       "      <td>G3</td>\n",
       "      <td>20071105</td>\n",
       "      <td>N</td>\n",
       "      <td>NaN</td>\n",
       "      <td>NaN</td>\n",
       "      <td>NaN</td>\n",
       "      <td>NaN</td>\n",
       "      <td>NaN</td>\n",
       "      <td>NaN</td>\n",
       "      <td>S</td>\n",
       "      <td>20080102</td>\n",
       "      <td>1</td>\n",
       "      <td>C12</td>\n",
       "      <td>C770</td>\n",
       "      <td>NaN</td>\n",
       "      <td>072</td>\n",
       "      <td>20080102</td>\n",
       "      <td>20080102</td>\n",
       "      <td>NaN</td>\n",
       "      <td>20080228</td>\n",
       "      <td>20080207</td>\n",
       "      <td>NaN</td>\n",
       "      <td>021</td>\n",
       "      <td>000</td>\n",
       "      <td>NaN</td>\n",
       "    </tr>\n",
       "    <tr>\n",
       "      <th>1</th>\n",
       "      <td>200801</td>\n",
       "      <td>EP</td>\n",
       "      <td>350000</td>\n",
       "      <td>2025507</td>\n",
       "      <td>3508205573565</td>\n",
       "      <td>200801</td>\n",
       "      <td>0304010090</td>\n",
       "      <td>749.64</td>\n",
       "      <td>352900</td>\n",
       "      <td>05</td>\n",
       "      <td>61</td>\n",
       "      <td>M</td>\n",
       "      <td>09161265000146</td>\n",
       "      <td>09161265000146</td>\n",
       "      <td>{{|}}}}|</td>\n",
       "      <td>4</td>\n",
       "      <td>51</td>\n",
       "      <td>F</td>\n",
       "      <td>99</td>\n",
       "      <td>352900</td>\n",
       "      <td>010</td>\n",
       "      <td>17514691</td>\n",
       "      <td>0</td>\n",
       "      <td>1</td>\n",
       "      <td>20080123</td>\n",
       "      <td>20080331</td>\n",
       "      <td>04</td>\n",
       "      <td>1</td>\n",
       "      <td>21</td>\n",
       "      <td>0</td>\n",
       "      <td>0</td>\n",
       "      <td>1</td>\n",
       "      <td>0</td>\n",
       "      <td>0</td>\n",
       "      <td>NaN</td>\n",
       "      <td>E350000029</td>\n",
       "      <td>01</td>\n",
       "      <td>0000000000000</td>\n",
       "      <td>2025507</td>\n",
       "      <td>20080123</td>\n",
       "      <td>20080123</td>\n",
       "      <td>0000</td>\n",
       "      <td>C56</td>\n",
       "      <td>0000</td>\n",
       "      <td>NaN</td>\n",
       "      <td>NaN</td>\n",
       "      <td>C56</td>\n",
       "      <td>S</td>\n",
       "      <td>4</td>\n",
       "      <td>00</td>\n",
       "      <td>20071120</td>\n",
       "      <td>NaN</td>\n",
       "      <td>C772</td>\n",
       "      <td>20080115</td>\n",
       "      <td>C774</td>\n",
       "      <td>20080116</td>\n",
       "      <td>NaN</td>\n",
       "      <td>NaN</td>\n",
       "      <td>N</td>\n",
       "      <td>20080115</td>\n",
       "      <td>5</td>\n",
       "      <td>C772</td>\n",
       "      <td>C774</td>\n",
       "      <td>NaN</td>\n",
       "      <td>36</td>\n",
       "      <td>20080123</td>\n",
       "      <td>20080123</td>\n",
       "      <td>NaN</td>\n",
       "      <td>20080331</td>\n",
       "      <td>20080331</td>\n",
       "      <td>NaN</td>\n",
       "      <td>36</td>\n",
       "      <td>NaN</td>\n",
       "      <td>NaN</td>\n",
       "    </tr>\n",
       "    <tr>\n",
       "      <th>2</th>\n",
       "      <td>200801</td>\n",
       "      <td>EP</td>\n",
       "      <td>350000</td>\n",
       "      <td>2030705</td>\n",
       "      <td>3508205718842</td>\n",
       "      <td>200801</td>\n",
       "      <td>0304010090</td>\n",
       "      <td>1475.8</td>\n",
       "      <td>354140</td>\n",
       "      <td>39</td>\n",
       "      <td>20</td>\n",
       "      <td>I</td>\n",
       "      <td>51397248000179</td>\n",
       "      <td>NaN</td>\n",
       "      <td>{{||{|~</td>\n",
       "      <td>4</td>\n",
       "      <td>80</td>\n",
       "      <td>M</td>\n",
       "      <td>01</td>\n",
       "      <td>354140</td>\n",
       "      <td>010</td>\n",
       "      <td>19015320</td>\n",
       "      <td>0</td>\n",
       "      <td>1</td>\n",
       "      <td>20080102</td>\n",
       "      <td>20080331</td>\n",
       "      <td>04</td>\n",
       "      <td>1</td>\n",
       "      <td>21</td>\n",
       "      <td>0</td>\n",
       "      <td>0</td>\n",
       "      <td>1</td>\n",
       "      <td>0</td>\n",
       "      <td>0</td>\n",
       "      <td>NaN</td>\n",
       "      <td>E350000016</td>\n",
       "      <td>NaN</td>\n",
       "      <td>0000000000000</td>\n",
       "      <td>0000000</td>\n",
       "      <td>20080102</td>\n",
       "      <td>NaN</td>\n",
       "      <td>0000</td>\n",
       "      <td>C61</td>\n",
       "      <td>0000</td>\n",
       "      <td>NaN</td>\n",
       "      <td>NaN</td>\n",
       "      <td>C61</td>\n",
       "      <td>3</td>\n",
       "      <td>4</td>\n",
       "      <td>G2</td>\n",
       "      <td>20070423</td>\n",
       "      <td>N</td>\n",
       "      <td>NaN</td>\n",
       "      <td>NaN</td>\n",
       "      <td>NaN</td>\n",
       "      <td>NaN</td>\n",
       "      <td>NaN</td>\n",
       "      <td>NaN</td>\n",
       "      <td>S</td>\n",
       "      <td>20080102</td>\n",
       "      <td>5</td>\n",
       "      <td>C61</td>\n",
       "      <td>NaN</td>\n",
       "      <td>NaN</td>\n",
       "      <td>116</td>\n",
       "      <td>20080102</td>\n",
       "      <td>NaN</td>\n",
       "      <td>NaN</td>\n",
       "      <td>20080220</td>\n",
       "      <td>NaN</td>\n",
       "      <td>NaN</td>\n",
       "      <td>000</td>\n",
       "      <td>000</td>\n",
       "      <td>NaN</td>\n",
       "    </tr>\n",
       "    <tr>\n",
       "      <th>3</th>\n",
       "      <td>200801</td>\n",
       "      <td>EP</td>\n",
       "      <td>350000</td>\n",
       "      <td>2773171</td>\n",
       "      <td>3508204191613</td>\n",
       "      <td>200801</td>\n",
       "      <td>0304010286</td>\n",
       "      <td>731.64</td>\n",
       "      <td>353060</td>\n",
       "      <td>39</td>\n",
       "      <td>20</td>\n",
       "      <td>I</td>\n",
       "      <td>48095202000190</td>\n",
       "      <td>NaN</td>\n",
       "      <td>{{{{|}</td>\n",
       "      <td>4</td>\n",
       "      <td>53</td>\n",
       "      <td>M</td>\n",
       "      <td>01</td>\n",
       "      <td>353060</td>\n",
       "      <td>010</td>\n",
       "      <td>08738120</td>\n",
       "      <td>0</td>\n",
       "      <td>1</td>\n",
       "      <td>20080101</td>\n",
       "      <td>20080331</td>\n",
       "      <td>04</td>\n",
       "      <td>1</td>\n",
       "      <td>21</td>\n",
       "      <td>0</td>\n",
       "      <td>0</td>\n",
       "      <td>1</td>\n",
       "      <td>0</td>\n",
       "      <td>0</td>\n",
       "      <td>NaN</td>\n",
       "      <td>E350000027</td>\n",
       "      <td>NaN</td>\n",
       "      <td>0000000000000</td>\n",
       "      <td>0000000</td>\n",
       "      <td>NaN</td>\n",
       "      <td>NaN</td>\n",
       "      <td>0000</td>\n",
       "      <td>C710</td>\n",
       "      <td>0000</td>\n",
       "      <td>NaN</td>\n",
       "      <td>NaN</td>\n",
       "      <td>C710</td>\n",
       "      <td>3</td>\n",
       "      <td>NaN</td>\n",
       "      <td>GX</td>\n",
       "      <td>20070827</td>\n",
       "      <td>NaN</td>\n",
       "      <td>NaN</td>\n",
       "      <td>NaN</td>\n",
       "      <td>NaN</td>\n",
       "      <td>NaN</td>\n",
       "      <td>NaN</td>\n",
       "      <td>NaN</td>\n",
       "      <td>N</td>\n",
       "      <td>20071204</td>\n",
       "      <td>1</td>\n",
       "      <td>C710</td>\n",
       "      <td>NaN</td>\n",
       "      <td>NaN</td>\n",
       "      <td>070</td>\n",
       "      <td>20080101</td>\n",
       "      <td>NaN</td>\n",
       "      <td>NaN</td>\n",
       "      <td>20080331</td>\n",
       "      <td>NaN</td>\n",
       "      <td>NaN</td>\n",
       "      <td>000</td>\n",
       "      <td>000</td>\n",
       "      <td>NaN</td>\n",
       "    </tr>\n",
       "    <tr>\n",
       "      <th>4</th>\n",
       "      <td>200801</td>\n",
       "      <td>EP</td>\n",
       "      <td>350000</td>\n",
       "      <td>2773171</td>\n",
       "      <td>3508204191712</td>\n",
       "      <td>200801</td>\n",
       "      <td>0304010294</td>\n",
       "      <td>396.0</td>\n",
       "      <td>353060</td>\n",
       "      <td>39</td>\n",
       "      <td>20</td>\n",
       "      <td>I</td>\n",
       "      <td>48095202000190</td>\n",
       "      <td>NaN</td>\n",
       "      <td>{|~|{</td>\n",
       "      <td>4</td>\n",
       "      <td>52</td>\n",
       "      <td>M</td>\n",
       "      <td>01</td>\n",
       "      <td>351880</td>\n",
       "      <td>035</td>\n",
       "      <td>07181140</td>\n",
       "      <td>0</td>\n",
       "      <td>1</td>\n",
       "      <td>20080101</td>\n",
       "      <td>20080331</td>\n",
       "      <td>04</td>\n",
       "      <td>1</td>\n",
       "      <td>21</td>\n",
       "      <td>0</td>\n",
       "      <td>0</td>\n",
       "      <td>1</td>\n",
       "      <td>0</td>\n",
       "      <td>0</td>\n",
       "      <td>NaN</td>\n",
       "      <td>E350000027</td>\n",
       "      <td>NaN</td>\n",
       "      <td>0000000000000</td>\n",
       "      <td>0000000</td>\n",
       "      <td>NaN</td>\n",
       "      <td>NaN</td>\n",
       "      <td>0000</td>\n",
       "      <td>C61</td>\n",
       "      <td>0000</td>\n",
       "      <td>NaN</td>\n",
       "      <td>NaN</td>\n",
       "      <td>C61</td>\n",
       "      <td>3</td>\n",
       "      <td>3</td>\n",
       "      <td>G2</td>\n",
       "      <td>20060104</td>\n",
       "      <td>NaN</td>\n",
       "      <td>NaN</td>\n",
       "      <td>NaN</td>\n",
       "      <td>NaN</td>\n",
       "      <td>NaN</td>\n",
       "      <td>NaN</td>\n",
       "      <td>NaN</td>\n",
       "      <td>N</td>\n",
       "      <td>20071130</td>\n",
       "      <td>1</td>\n",
       "      <td>C61</td>\n",
       "      <td>NaN</td>\n",
       "      <td>NaN</td>\n",
       "      <td>140</td>\n",
       "      <td>20080101</td>\n",
       "      <td>NaN</td>\n",
       "      <td>NaN</td>\n",
       "      <td>20080331</td>\n",
       "      <td>NaN</td>\n",
       "      <td>NaN</td>\n",
       "      <td>000</td>\n",
       "      <td>000</td>\n",
       "      <td>NaN</td>\n",
       "    </tr>\n",
       "  </tbody>\n",
       "</table>\n",
       "</div>"
      ],
      "text/plain": [
       "   AP_MVM AP_CONDIC AP_GESTAO AP_CODUNI     AP_AUTORIZ  AP_CMP   AP_PRIPAL AP_VL_AP AP_UFMUN AP_TPUPS AP_TIPPRE AP_MN_IND      AP_CNPJCPF      AP_CNPJMNT        AP_CNSPCN AP_COIDADE AP_NUIDADE AP_SEXO AP_RACACOR AP_MUNPCN AP_UFNACIO AP_CEPPCN AP_UFDIF AP_MNDIF AP_DTINIC  AP_DTFIM AP_TPATEN AP_TPAPAC AP_MOTSAI AP_OBITO AP_ENCERR AP_PERMAN AP_ALTA AP_TRANSF AP_DTOCOR   AP_CODEMI AP_CATEND     AP_APACANT AP_UNISOL AP_DTSOLIC  AP_DTAUT AP_CIDCAS AP_CIDPRI AP_CIDSEC AP_ETNIA AR_SMRD AR_CID10 AR_LINFIN AR_ESTADI AR_GRAHIS AR_DTIDEN AR_TRANTE AR_CIDINI1 AR_DTINI1 AR_CIDINI2 AR_DTINI2 AR_CIDINI3 AR_DTINI3 AR_CONTTR AR_DTINTR AR_FINALI AR_CIDTR1 AR_CIDTR2 AR_CIDTR3 AR_NUMC1 AR_INIAR1 AR_INIAR2 AR_INIAR3 AR_FIMAR1 AR_FIMAR2 AR_FIMAR3 AR_NUMC2 AR_NUMC3 AP_NATJUR\n",
       "0  200801        EP    350000   2030705  3508205721108  200801  0304010090   744.16   354140       39        20         I  51397248000179             NaN  |{|{}{{{          4         65       M         01    354240        010  19570000        0        1  20080102  20080331        04         1        21        0         0         1       0         0       NaN  E350000016       NaN  0000000000000   0000000   20080102       NaN      0000       C12      0000      NaN     NaN      C12         3         3        G3  20071105         N        NaN       NaN        NaN       NaN        NaN       NaN         S  20080102         1       C12      C770       NaN      072  20080102  20080102       NaN  20080228  20080207       NaN      021      000       NaN\n",
       "1  200801        EP    350000   2025507  3508205573565  200801  0304010090   749.64   352900       05        61         M  09161265000146  09161265000146  {{|}}}}|          4         51       F         99    352900        010  17514691        0        1  20080123  20080331        04         1        21        0         0         1       0         0       NaN  E350000029        01  0000000000000   2025507   20080123  20080123      0000       C56      0000      NaN     NaN      C56         S         4        00  20071120       NaN       C772  20080115       C774  20080116        NaN       NaN         N  20080115         5      C772      C774       NaN       36  20080123  20080123       NaN  20080331  20080331       NaN       36      NaN       NaN\n",
       "2  200801        EP    350000   2030705  3508205718842  200801  0304010090   1475.8   354140       39        20         I  51397248000179             NaN  {{||{|~          4         80       M         01    354140        010  19015320        0        1  20080102  20080331        04         1        21        0         0         1       0         0       NaN  E350000016       NaN  0000000000000   0000000   20080102       NaN      0000       C61      0000      NaN     NaN      C61         3         4        G2  20070423         N        NaN       NaN        NaN       NaN        NaN       NaN         S  20080102         5       C61       NaN       NaN      116  20080102       NaN       NaN  20080220       NaN       NaN      000      000       NaN\n",
       "3  200801        EP    350000   2773171  3508204191613  200801  0304010286   731.64   353060       39        20         I  48095202000190             NaN  {{{{|}          4         53       M         01    353060        010  08738120        0        1  20080101  20080331        04         1        21        0         0         1       0         0       NaN  E350000027       NaN  0000000000000   0000000        NaN       NaN      0000      C710      0000      NaN     NaN     C710         3       NaN        GX  20070827       NaN        NaN       NaN        NaN       NaN        NaN       NaN         N  20071204         1      C710       NaN       NaN      070  20080101       NaN       NaN  20080331       NaN       NaN      000      000       NaN\n",
       "4  200801        EP    350000   2773171  3508204191712  200801  0304010294    396.0   353060       39        20         I  48095202000190             NaN  {|~|{          4         52       M         01    351880        035  07181140        0        1  20080101  20080331        04         1        21        0         0         1       0         0       NaN  E350000027       NaN  0000000000000   0000000        NaN       NaN      0000       C61      0000      NaN     NaN      C61         3         3        G2  20060104       NaN        NaN       NaN        NaN       NaN        NaN       NaN         N  20071130         1       C61       NaN       NaN      140  20080101       NaN       NaN  20080331       NaN       NaN      000      000       NaN"
      ]
     },
     "execution_count": 21,
     "metadata": {},
     "output_type": "execute_result"
    }
   ],
   "source": [
    "dados_rt = pd.read_csv('sp.csv', dtype=object)\n",
    "dados_rt.head()"
   ]
  },
  {
   "cell_type": "markdown",
   "id": "c0abb76c",
   "metadata": {},
   "source": [
    "## 1.1 Renaming columns"
   ]
  },
  {
   "cell_type": "code",
   "execution_count": 22,
   "id": "c59d26fb",
   "metadata": {},
   "outputs": [],
   "source": [
    "dados_sp_rt1 = dados_rt.copy()"
   ]
  },
  {
   "cell_type": "code",
   "execution_count": 23,
   "id": "3b120442",
   "metadata": {},
   "outputs": [],
   "source": [
    "# First we drop the column AP_SMRD\n",
    "dados_sp_rt1 = dados_sp_rt1.drop(columns=['AR_SMRD'])"
   ]
  },
  {
   "cell_type": "code",
   "execution_count": 24,
   "id": "065d7fb5",
   "metadata": {},
   "outputs": [],
   "source": [
    "# renaming columns\n",
    "dict_rename = {\n",
    "    'AP_MVM': 'data_processamento',\n",
    "    'AP_CONDIC': 'sigla_tipo_gestao',\n",
    "    'AP_GESTAO': 'codigo_uf_municipio_gestao',\n",
    "    'AP_CODUNI': 'codigo_cnes',\n",
    "    'AP_AUTORIZ': 'numero_apac_autorizacao',\n",
    "    'AP_CMP': 'data_atendimento_competencia',\n",
    "    'AP_PRIPAL': 'procedimento_principal_apac',\n",
    "    'AP_VL_AP': 'valor_total_apac_aprovado',\n",
    "    'AP_UFMUN': 'codigo_uf_municipio_estabelecimento',\n",
    "    'AP_TPUPS': 'tipo_estabelecimento',\n",
    "    'AP_TIPPRE': 'tipo_prestador',\n",
    "    'AP_MN_IND': 'estabelecimento_mantido_individual',\n",
    "    'AP_CNPJCPF': 'cnpj_estabelecimento_executante',\n",
    "    'AP_CNPJMNT': 'cnpj_mantenedora',\n",
    "    'AP_CNSPCN': 'numero_cns_paciente',\n",
    "    'AP_COIDADE': 'codigo_idade_paciente',\n",
    "    'AP_NUIDADE': 'idade_paciente',\n",
    "    'AP_SEXO': 'sexo_paciente',\n",
    "    'AP_RACACOR': 'raca_cor_paciente',\n",
    "    'AP_MUNPCN': 'codigo_uf_municipio_residencia_paciente',\n",
    "    'AP_UFNACIO': 'nacionalidade_paciente',\n",
    "    'AP_CEPPCN': 'cep_paciente',\n",
    "    'AP_UFDIF': 'uf_residencia_diferente_uf_estabelecimento',\n",
    "    'AP_MNDIF': 'municipio_residencia_diferente_municipio_estabelecimento',\n",
    "    'AP_DTINIC': 'data_inicio_validade',\n",
    "    'AP_DTFIM': 'data_fim_validade',\n",
    "    'AP_TPATEN': 'tipo_atendimento_apac',\n",
    "    'AP_TPAPAC': 'tipo_apac',\n",
    "    'AP_MOTSAI': 'motivo_saida_permanencia',\n",
    "    'AP_OBITO': 'indicador_obito',\n",
    "    'AP_ENCERR': 'indicador_encerramento',\n",
    "    'AP_PERMAN': 'indicador_permanencia',\n",
    "    'AP_ALTA': 'indicador_alta',\n",
    "    'AP_TRANSF': 'indicador_transferencia',\n",
    "    'AP_DTOCOR': 'data_ocorrencia',\n",
    "    'AP_CODEMI': 'codigo_orgao_emissor',\n",
    "    'AP_CATEND': 'carater_atendimento',\n",
    "    'AP_APACANT': 'numero_apac_anterior',\n",
    "    'AP_UNISOL': 'codigo_cnes_estabelecimento_solicitante',\n",
    "    'AP_DTSOLIC': 'data_solicitacao',\n",
    "    'AP_DTAUT': 'data_autorizacao',\n",
    "    'AP_CIDCAS': 'cid_causas_associadas',\n",
    "    'AP_CIDPRI': 'cid_principal',\n",
    "    'AP_CIDSEC': 'cid_secundario',\n",
    "    'AP_ETNIA': 'etnia_paciente',\n",
    "    'AR_SMRD': 'somatoria_multiplos_registros_dados', # Inferred from context, as specific description was missing for AR_SMRD [cite: 145]\n",
    "    'AR_CID10': 'cid_10_topografia',\n",
    "    'AR_LINFIN': 'linfonodos_regionais_invadidos',\n",
    "    'AR_ESTADI': 'estadio_uicc',\n",
    "    'AR_GRAHIS': 'grau_histopatologico',\n",
    "    'AR_DTIDEN': 'data_identificacao_patologica',\n",
    "    'AR_TRANTE': 'tratamentos_anteriores',\n",
    "    'AR_CIDINI1': 'cid_1_tratamento_anterior',\n",
    "    'AR_DTINI1': 'data_inicio_1_tratamento_anterior',\n",
    "    'AR_CIDINI2': 'cid_2_tratamento_anterior',\n",
    "    'AR_DTINI2': 'data_inicio_2_tratamento_anterior',\n",
    "    'AR_CIDINI3': 'cid_3_tratamento_anterior',\n",
    "    'AR_DTINI3': 'data_inicio_3_tratamento_anterior',\n",
    "    'AR_CONTTR': 'continuidade_tratamento',\n",
    "    'AR_DTINTR': 'data_inicio_tratamento_solicitado',\n",
    "    'AR_FINALI': 'finalidade_tratamento',\n",
    "    'AR_CIDTR1': 'cid_topografico_1',\n",
    "    'AR_CIDTR2': 'cid_topografico_2',\n",
    "    'AR_CIDTR3': 'cid_topografico_3',\n",
    "    'AR_NUMC1': 'numero_campo_insercoes_1',\n",
    "    'AR_INIAR1': 'data_inicio_1',\n",
    "    'AR_INIAR2': 'data_inicio_2',\n",
    "    'AR_INIAR3': 'data_inicio_3',\n",
    "    'AR_FIMAR1': 'data_fim_1',\n",
    "    'AR_FIMAR2': 'data_fim_2',\n",
    "    'AR_FIMAR3': 'data_fim_3',\n",
    "    'AR_NUMC2': 'numero_campo_insercoes_2',\n",
    "    'AR_NUMC3': 'numero_campo_insercoes_3',\n",
    "    'AP_NATJUR': 'codigo_natureza_juridica'\n",
    "}\n",
    "\n",
    "dados_sp_rt1 = dados_sp_rt1.rename(columns=dict_rename)"
   ]
  },
  {
   "cell_type": "markdown",
   "id": "90be5814",
   "metadata": {},
   "source": [
    "## 1.2 Mapping apac procedures"
   ]
  },
  {
   "cell_type": "code",
   "execution_count": 25,
   "id": "f7d19317",
   "metadata": {},
   "outputs": [],
   "source": [
    "dados_sp_rt2 = dados_sp_rt1.copy()"
   ]
  },
  {
   "cell_type": "code",
   "execution_count": 26,
   "id": "a2f24dc9",
   "metadata": {},
   "outputs": [],
   "source": [
    "# Changing column \"procedimento_principal_apac\" to object\n",
    "# dados_sp_rt2[\"procedimento_principal_apac\"] = dados_sp_rt2[\"procedimento_principal_apac\"].astype(str).apply(lambda x: '0' + x[0:9])"
   ]
  },
  {
   "cell_type": "code",
   "execution_count": 27,
   "id": "7d2c5952",
   "metadata": {},
   "outputs": [],
   "source": [
    "# Dictionary with the mapping of APAC procedures\n",
    "apac_procedures = {'0304010014': 'Betaterapia dérmica', '0304010022': 'Betaterapia oftálmica', '0304010030': 'Betaterapia para profilaxia de pterígio', \n",
    "                        '0304010049': 'Braquiterapia', '0304010057': 'Braquiterapia com fios de iridium', '0304010065': 'Braquiterapia com Iodo 125 / Ouro 198', \n",
    "                        '0304010073': 'Braquiterapia de alta taxa de dose', '0304010081': 'Verificação por imagem em radioterapia', '0304010090': 'Cobaltoterapia', \n",
    "                        '0304010103': 'Implantação de halo para radiocirurgia', '0304010120': 'Irradiação de corpo inteiro pré-transplante de medula óssea', \n",
    "                        '0304010138': 'Irradiação de meio corpo', '0304010146': 'Irradiação de pele total', '0304010154': 'Máscara ou imobilização personalizada', \n",
    "                        '0304010162': 'Moldagem em colo e/ou corpo do útero', '0304010189': 'Planejamento complexo', '0304010197': 'Planejamento de braquiterapia de alta taxa de dose', \n",
    "                        '0304010200': 'Planejamento simples', '0304010219': 'Radiocirurgia', '0304010235': 'Radioterapia de doença ou condição benigna', \n",
    "                        '0304010243': 'Radioterapia estereotática fracionada', '0304010260': 'Roentgenterapia', '0304010286': 'Radioterapia com acelerador linear só de fótons', \n",
    "                        '0304010294': 'Radioterapia com acelerador linear de fótons e elétrons', '0304010308': 'Colimação personalizada', '0304010316': 'Planejamento para radioterapia conformada tridimensional', \n",
    "                        '0304010324': 'Moldagem/Implante em mucosa (por tratamento completo)', '0304010332': 'Moldagem/Implante em pele/mucosa (por tratamento completo)',\n",
    "                        '0304010367': 'Radioterapia de Cabeça e Pescoço', '0304010367': 'RADIOTERAPIA DE CABEÇA E PESCOÇO', '030401037': 'RADIOTERAPIA DO APARELHO DIGESTIVO', \n",
    "                        '0304010367': 'RADIOTERAPIA DE CABEÇA E PESCOÇO', '0304010375': 'RADIOTERAPIA DO APARELHO DIGESTIVO', '0304010383': 'RADIOTERAPIA DE TRAQUEIA, BRÔNQUIO, PULMÃO, PLEURA E MEDIASTINO', \n",
    "                        '0304010391': 'RADIOTERAPIA DE OSSOS/CARTILAGENS/PARTES MOLES', '0304010405': 'RADIOTERAPIA DE PELE', '0304010413': 'RADIOTERAPIA DE MAMA', '0304010421': 'RADIOTERAPIA DE CÂNCER GINECOLÓGICO', \n",
    "                        '0304010430': 'BRAQUITERAPIA GINECOLÓGICA', '0304010448': 'RADIOTERAPIA DE PÊNIS', '0304010456': 'RADIOTERAPIA DE PRÓSTATA', '0304010464': 'BRAQUITERAPIA DE PRÓSTATA', '0304010472': 'RADIOTERAPIA DO APARELHO URINÁRIO', \n",
    "                        '0304010480': 'RADIOTERAPIA DE OLHOS E ANEXOS'}\n",
    "\n",
    "dados_sp_rt2[\"procedimento_principal_apac_nome\"] = dados_sp_rt2[\"procedimento_principal_apac\"].map(apac_procedures)"
   ]
  },
  {
   "cell_type": "markdown",
   "id": "4f677b5e",
   "metadata": {},
   "source": [
    "## 1.3 Correcting type of data"
   ]
  },
  {
   "cell_type": "code",
   "execution_count": 28,
   "id": "3b8b6ed9",
   "metadata": {},
   "outputs": [],
   "source": [
    "dados_sp_rt3 = dados_sp_rt2.copy()"
   ]
  },
  {
   "cell_type": "code",
   "execution_count": 29,
   "id": "c706c28f",
   "metadata": {},
   "outputs": [],
   "source": [
    "# Type -> period\n",
    "period_list = ['data_processamento', 'data_atendimento_competencia']\n",
    "for period in period_list:\n",
    "    dados_sp_rt3[period] = pd.to_datetime(dados_sp_rt3[period], format='%Y%m').astype('period[M]')"
   ]
  },
  {
   "cell_type": "code",
   "execution_count": 30,
   "id": "c4639c7e",
   "metadata": {},
   "outputs": [],
   "source": [
    "# Type -> date\n",
    "date_list = ['data_inicio_validade', 'data_fim_validade', 'data_solicitacao', 'data_autorizacao', 'data_identificacao_patologica', \n",
    " 'data_inicio_1_tratamento_anterior', 'data_inicio_2_tratamento_anterior', 'data_inicio_3_tratamento_anterior', 'data_inicio_tratamento_solicitado',\n",
    " 'data_inicio_1', 'data_inicio_2', 'data_inicio_3', 'data_fim_1', 'data_fim_2', 'data_fim_3']\n",
    "\n",
    "for date in date_list:\n",
    "    dados_sp_rt3[date] = pd.to_datetime(dados_sp_rt3[date], format='%Y%m%d', errors='coerce')"
   ]
  },
  {
   "cell_type": "code",
   "execution_count": 31,
   "id": "69e49f45",
   "metadata": {},
   "outputs": [],
   "source": [
    "# Type -> float\n",
    "dados_sp_rt3['valor_total_apac_aprovado'] = dados_sp_rt3['valor_total_apac_aprovado'].astype(float)"
   ]
  },
  {
   "cell_type": "markdown",
   "id": "7897626a",
   "metadata": {},
   "source": [
    "## 1.4 Dropping columns and creating column CID10 with just 2 digits"
   ]
  },
  {
   "cell_type": "code",
   "execution_count": 32,
   "id": "64a3cbb8",
   "metadata": {},
   "outputs": [],
   "source": [
    "# Dropping columns - remove column 'tipo_prestador' because this info is not used more in datasus\n",
    "dados_sp_rt4 = dados_sp_rt3.drop(['tipo_prestador', 'numero_apac_autorizacao', 'cnpj_mantenedora', 'numero_cns_paciente', 'cid_causas_associadas', 'numero_campo_insercoes_1', 'numero_campo_insercoes_2', 'numero_campo_insercoes_3'], axis=1).copy()"
   ]
  },
  {
   "cell_type": "code",
   "execution_count": 33,
   "id": "49c604ac",
   "metadata": {},
   "outputs": [],
   "source": [
    "# Columns CID10\n",
    "dados_sp_rt4['cid10'] = dados_sp_rt4['cid_principal'].apply(lambda x: x[:3])"
   ]
  },
  {
   "cell_type": "markdown",
   "id": "85f060f8",
   "metadata": {},
   "source": [
    "## 1.5 Creating column \"sus_paulista\""
   ]
  },
  {
   "cell_type": "code",
   "execution_count": 45,
   "id": "673b7ebc",
   "metadata": {},
   "outputs": [],
   "source": [
    "# Transformig data in a dictionary\n",
    "sus_paulista = pd.read_csv('..\\\\arquivos_auxiliares\\\\tables\\\\sus_paulista.csv', dtype=object)\n",
    "\n",
    "sus_paulista['Valor'] = sus_paulista['Valor'].astype(float)\n",
    "\n",
    "sus_paulista_dict = sus_paulista.set_index('Unnamed: 0')['Valor'].to_dict()"
   ]
  },
  {
   "cell_type": "code",
   "execution_count": 46,
   "id": "35d9d519",
   "metadata": {},
   "outputs": [],
   "source": [
    "# Creating column sus_paulista\n",
    "dados_sp_rt4['valor_total_apac_aprovado_sus_paulista'] = np.where(\n",
    "    dados_sp_rt4['data_processamento'] >= '2023-08',\n",
    "    dados_sp_rt4['procedimento_principal_apac'].map(sus_paulista_dict), 0)"
   ]
  },
  {
   "cell_type": "markdown",
   "id": "f94d8bf8",
   "metadata": {},
   "source": [
    "## 1.6 Creating column city name"
   ]
  },
  {
   "cell_type": "code",
   "execution_count": 47,
   "id": "784cb774",
   "metadata": {},
   "outputs": [],
   "source": [
    "# Creating dict to map\n",
    "municipios_sp = pd.read_excel('..\\\\arquivos_auxiliares\\\\tables\\\\codigosdosmunicipios_sp.xls', dtype=object)\n",
    "\n",
    "# Excluding last character to match with main data\n",
    "municipios_sp['cod'] = municipios_sp['Código do Município'].astype(str).apply(lambda x: x[0:6])\n",
    "\n",
    "municipios_sp_dict = municipios_sp.set_index('cod')['Município'].to_dict()\n",
    "\n",
    "# Creating column city_cnes -> institution's city\n",
    "dados_sp_rt4['cidade_cnes'] = dados_sp_rt4['codigo_uf_municipio_estabelecimento'].map(municipios_sp_dict)\n",
    "\n",
    "# Creating column patient_city\n",
    "dados_sp_rt4['cidade_patient'] = dados_sp_rt4['codigo_uf_municipio_residencia_paciente'].map(municipios_sp_dict)\n",
    "\n",
    "# Creating column city_gestao\n",
    "dados_sp_rt4['cidade_gestao'] = dados_sp_rt4['codigo_uf_municipio_gestao'].map(municipios_sp_dict)\n",
    "dados_sp_rt4['cidade_gestao'] = np.where(dados_sp_rt4['codigo_uf_municipio_gestao'] == '350000', 'Estadual', dados_sp_rt4['cidade_gestao'])\n"
   ]
  },
  {
   "cell_type": "markdown",
   "id": "4f857fa2",
   "metadata": {},
   "source": [
    "## 1.7 Creating column \"ano\""
   ]
  },
  {
   "cell_type": "code",
   "execution_count": 48,
   "id": "e95e42a5",
   "metadata": {},
   "outputs": [],
   "source": [
    "dados_sp_rt4['ano'] = dados_sp_rt4['data_processamento'].dt.year"
   ]
  },
  {
   "cell_type": "markdown",
   "id": "456dfbf7",
   "metadata": {},
   "source": [
    "## 1.8 Changing \"raca_cor_paciente\" to text"
   ]
  },
  {
   "cell_type": "code",
   "execution_count": 49,
   "id": "6b8725e6",
   "metadata": {},
   "outputs": [],
   "source": [
    "dados_sp_rt5 = dados_sp_rt4.copy()"
   ]
  },
  {
   "cell_type": "code",
   "execution_count": 50,
   "id": "4e4a7c7b",
   "metadata": {},
   "outputs": [],
   "source": [
    "# Dictionary with string names\n",
    "\n",
    "cor = {\"01\": \"Branca\",\n",
    "       \"02\": \"Preta\",\n",
    "       \"03\": \"Amarela\",\n",
    "       \"04\": \"Parda\",\n",
    "       \"05\": \"Indígena\",\n",
    "       \"99\": \"Ignorado\"}\n",
    "\n",
    "dados_sp_rt5['raca_cor_paciente'] = dados_sp_rt5['raca_cor_paciente'].map(cor)"
   ]
  },
  {
   "cell_type": "markdown",
   "id": "c8ea0ea8",
   "metadata": {},
   "source": [
    "## 1.9 Creating column \"tipo_estabelecimento\" by institution type"
   ]
  },
  {
   "cell_type": "code",
   "execution_count": 51,
   "id": "e8bc15bb",
   "metadata": {},
   "outputs": [],
   "source": [
    "estabelecimentos = {'01': 'POSTO DE SAUDE', '02': 'CENTRO DE SAUDE/UNIDADE BASICA', '04': 'POLICLINICA', '05': 'HOSPITAL GERAL', '07': 'HOSPITAL ESPECIALIZADO', '15': 'UNIDADE MISTA',\n",
    " '22': 'CONSULTORIO ISOLADO', '32': 'UNIDADE MOVEL FLUVIAL', '36': 'CLINICA/CENTRO DE ESPECIALIDADE', '39': 'UNIDADE DE APOIO DIAGNOSE E TERAPIA (SADT ISOLADO)', '40': 'UNIDADE MOVEL TERRESTRE',\n",
    " '42': 'UNIDADE MOVEL DE NIVEL PRE-HOSPITALAR NA AREA DE URGENCIA', '43': 'FARMACIA', '50': 'UNIDADE DE VIGILANCIA EM SAUDE', '60': 'COOPERATIVA OU EMPRESA DE CESSAO DE TRABALHADORES NA SAUDE',\n",
    " '62': 'HOSPITAL/DIA - ISOLADO', '68': 'CENTRAL DE GESTAO EM SAUDE', '69': 'CENTRO DE ATENCAO HEMOTERAPIA E OU HEMATOLOGICA', '70': 'CENTRO DE ATENCAO PSICOSSOCIAL', '72': 'UNIDADE DE ATENCAO A SAUDE INDIGENA',\n",
    " '73': 'PRONTO ATENDIMENTO', '74': 'POLO ACADEMIA DA SAUDE', '75': 'TELESSAUDE', '76': 'CENTRAL DE REGULACAO MEDICA DAS URGENCIAS', '77': 'SERVICO DE ATENCAO DOMICILIAR ISOLADO(HOME CARE)',\n",
    " '79': 'OFICINA ORTOPEDICA', '80': 'LABORATORIO DE SAUDE PUBLICA', '81': 'CENTRAL DE REGULACAO DO ACESSO', '82': 'CENTRAL DE NOTIFICACAO,CAPTACAO E DISTRIB DE ORGAOS ESTADUAL', '83': 'POLO DE PREVENCAO DE DOENCAS E AGRAVOS E PROMOCAO DA SAUDE',\n",
    " '84': 'CENTRAL DE ABASTECIMENTO', '85': 'CENTRO DE IMUNIZACAO'}"
   ]
  },
  {
   "cell_type": "code",
   "execution_count": 52,
   "id": "c20730a4",
   "metadata": {},
   "outputs": [],
   "source": [
    "# Creating column \"tipo_estabelecimento\" by institution type\n",
    "dados_sp_rt5['tipo_estabelecimento_nome'] = dados_sp_rt5['tipo_estabelecimento'].map(estabelecimentos)"
   ]
  },
  {
   "cell_type": "markdown",
   "id": "8d5a9e4c",
   "metadata": {},
   "source": [
    "## 1.10 Changing column \"sigla_tipo_gestao\" with names"
   ]
  },
  {
   "cell_type": "code",
   "execution_count": 53,
   "id": "aa4fee90",
   "metadata": {},
   "outputs": [],
   "source": [
    "dados_sp_rt6 = dados_sp_rt5.copy()"
   ]
  },
  {
   "cell_type": "code",
   "execution_count": 54,
   "id": "eb896ddb",
   "metadata": {},
   "outputs": [],
   "source": [
    "# Creatging a dictionary to map the type of management\n",
    "gestao = {'EP': 'Estado Pleno', 'PG': 'Pacto de Gestão', 'MN': 'Munic Pleno'}\n",
    "\n",
    "# Changing column 'sigla_tipo_gestao' with names\n",
    "dados_sp_rt6['sigla_tipo_gestao'] = dados_sp_rt6['sigla_tipo_gestao'].map(gestao)"
   ]
  },
  {
   "cell_type": "markdown",
   "id": "ffa7e0cc",
   "metadata": {},
   "source": [
    "## 1.11 Creating column \"motivo_saida\" according to https://bvsms.saude.gov.br/bvs/saudelegis/gm/2008/prt0024_10_01_2008.html"
   ]
  },
  {
   "cell_type": "code",
   "execution_count": 55,
   "id": "5340ff3f",
   "metadata": {},
   "outputs": [],
   "source": [
    "# Dictionary to map exit/permanence reason codes\n",
    "motivo_saida = {\n",
    "    \"11\": \"Alta Curado\",\n",
    "    \"12\": \"Alta Melhorado\", \n",
    "    \"13\": \"Alta da Puérpera e permanência do recém-nascido\",\n",
    "    \"14\": \"Alta a pedido\",\n",
    "    \"15\": \"Alta com previsão de retorno para acompanhamento do paciente\",\n",
    "    \"16\": \"Alta por Evasão\",\n",
    "    \"17\": \"Alta da Puérpera e recém-nascido\",\n",
    "    \"18\": \"Alta por Outros motivos\",\n",
    "    \"21\": \"Por características próprias da doença\",\n",
    "    \"22\": \"Por Intercorrência\",\n",
    "    \"23\": \"Por impossibilidade sócio-familiar\",\n",
    "    \"24\": \"Por Processo de doação de órgãos, tecidos e células - doador vivo\",\n",
    "    \"25\": \"Por Processo de doação de órgãos, tecidos e células - doador morto\",\n",
    "    \"26\": \"Por mudança de Procedimento\",\n",
    "    \"27\": \"Por reoperação\",\n",
    "    \"28\": \"Outros motivos\",\n",
    "    \"31\": \"Transferido para outro estabelecimento\",\n",
    "    \"41\": \"Com declaração de óbito fornecida pelo médico assistente\",\n",
    "    \"42\": \"Com declaração de Óbito fornecida pelo Instituto Médico Legal - IML\",\n",
    "    \"43\": \"Com declaração de Óbito fornecida pelo Serviço de Verificação de Óbito - SVO\",\n",
    "    \"51\": \"ENCERRAMENTO ADMINISTRATIVO\"\n",
    "}\n",
    "\n",
    "# Apply the mapping to create a descriptive column\n",
    "dados_sp_rt6['motivo_saida_permanencia_nome'] = dados_sp_rt6['motivo_saida_permanencia'].map(motivo_saida)"
   ]
  },
  {
   "cell_type": "markdown",
   "id": "0ae590d5",
   "metadata": {},
   "source": [
    "## 1.12 Changing \"nacionalidade_paciente\" according to code"
   ]
  },
  {
   "cell_type": "code",
   "execution_count": 56,
   "id": "cff6fca4",
   "metadata": {},
   "outputs": [],
   "source": [
    "nacionalidades = {'010': 'BRASIL', '020': 'RESERVADO', '021': 'ARGENTINA', '022': 'BOLIVIA', '023': 'CHILE', '024': 'PARAGUAI', '025': 'URUGUAI', '026': 'COLOMBIA', '027': 'EQUADOR',\n",
    " '028': 'ANTIGUA E. DEP. BARBUDA', '029': 'ANTILHAS HOLANDESAS', '030': 'ALEMANHA', '031': 'BELGICA', '032': 'GRA-BRETANHA', '033': 'ARUBA', '034': 'CANADA', '035': 'ESPANHA',\n",
    " '036': 'ESTADOS UNIDOS DA AMERICA (EUA)', '037': 'FRANCA', '038': 'SUICA', '039': 'ITALIA', '040': 'COMUNIDADE DAS BAHAMAS', '041': 'JAPAO', '042': 'CHINA', '043': 'COREIA',\n",
    " '044': 'BARBADOS', '045': 'PORTUGAL', '046': 'BELIZE', '047': 'ILHAS TURKS E CAICOS', '048': 'RESERVADO', '049': 'RESERVADO', '050': 'RESERVADO', '051': 'COSTA RICA', '052': 'CUBA',\n",
    " '053': 'CURACAO', '054': 'COMUNIDADE DOMINICANA', '055': 'REPUBLICA DOMINICANA', '056': 'REPUBLICA DE EL SALVADOR', '057': 'ESTADOS ASSOC. DAS ANTILHAS', '058': 'ILHAS FALKLANDS',\n",
    " '059': 'GRANADA', '060': 'ILHAS GUADALUPE', '061': 'GUATEMALA', '062': 'REPUBLICA DO HAITI', '063': 'HONDURAS BRITANICAS', '064': 'HONDURAS', '065': 'ILHAS SERRANAS', '066': 'JAMAICA',\n",
    " '067': 'ILHAS MALVINAS', '068': 'MARTINICA', '069': 'ILHA MILHOS', '070': 'MONTE SERRAT', '071': 'NICARAGUA', '072': 'PANAMA', '073': 'PANAMA(ZONA DO CANAL)', '074': 'PORTO RICO',\n",
    " '075': 'QUITASUENO', '076': 'RONCADOR', '077': 'SANTA LUCIA', '078': 'SAO CRISTOVAO', '079': 'SAO VICENTE', '080': 'ILHAS TURCA', '081': 'ILHAS VIRGENS BRITANICAS', '082': 'ILHAS VIRGENS AMERICANAS',\n",
    " '083': 'BERMUDAS', '084': 'GROENLANDIA', '085': 'MEXICO', '086': 'ST. PIERRE ET MIQUELON', '087': 'GUIANA FRANCESA', '088': 'REPUBLICA GUIANA', '089': 'PERU', '090': 'SURINAME', '091': 'TRINIDAD E TOBAGO',\n",
    " '092': 'VENEZUELA', '093': 'ALBANIA', '094': 'ANDORRA', '095': 'AUSTRIA', '096': 'BULGARIA', '097': 'CHIPRE', '098': 'DINAMARCA', '099': 'EIRE', '100': 'ESCOCIA', '101': 'ILHAS FAROES', '102': 'FINLANDIA',\n",
    " '103': 'GIBRALTAR', '104': 'GRECIA', '105': 'HOLANDA', '106': 'HUNGRIA', '107': 'ILHAS BALEARES', '108': 'ILHAS COSMOLEDO (LOMORES)', '109': 'ILHAS DO CANAL', '110': 'INGLATERRA',\n",
    " '111': 'IRLANDA DO NORTE', '112': 'IRLANDA', '113': 'ISLANDIA', '114': 'IUGOSLAVIA', '115': 'LIECHTENSTEIN', '116': 'LUXEMBURGO', '117': 'ILHAS DE MAN', '118': 'MONACO', '119': 'NORUEGA',\n",
    " '120': 'REPUBLICA DE MALTA', '121': 'PAIS DE GALES', '122': 'PAISES BAIXOS', '123': 'POLONIA', '124': 'ROMENIA', '125': 'SAN MARINO', '126': 'SUECIA', '127': 'SVALBARD E JAN MAYER,IS', '128': 'TCHECOSLOVAQUIA',\n",
    " '129': 'ESTADO DA CIDADE DO VATICANO', '130': 'CROACIA', '131': 'SERVIA', '132': 'ESLOVENIA', '133': 'REPUBLICA DA MACEDONIA', '134': 'BOSNIA HERZEGOVINA', '135': 'REPUBLICA TCHECA', '136': 'ESLOVAQUIA',\n",
    " '137': 'MONTENEGRO', '138': 'AZERBAIJAO', '139': 'BASHKISTA', '140': 'REPUBLICA DA BIELORRUSSIA', '141': 'BURYAT', '142': 'CARELIA', '143': 'CAZAQUISTAO', '144': 'CHECHEN INGUSTH',\n",
    " '145': 'CHUVASH', '146': 'DAGESTA', '147': 'ESTONIA', '148': 'GEORGIA', '149': 'GORNO ALTAI', '150': 'KABARDINO BALKAR', '151': 'KALMIR', '152': 'KARACHAEVOCHERKESS', '153': 'KHAKASS',\n",
    " '154': 'KOMI', '155': 'LETONIA', '156': 'LITUANIA', '157': 'MARI', '158': 'MOLDAVIA', '159': 'OSSETIA SETENTRIONAL', '160': 'QUIRGUISTAO', '161': 'TADJIQUISTAO', '162': 'TARTARIA',\n",
    " '163': 'TURCOMENISTAO', '164': 'TUVIN', '165': 'UCRANIA', '166': 'UDMURT', '167': 'UNIAO SOVIETICA', '168': 'UZBEQUISTAO', '169': 'YAKUT', '170': 'ABISSINIA', '171': 'ACORES', '172': 'AFAR FRANCES',\n",
    " '173': 'REPUBLICA DA AFRICA DO SUL', '174': 'ALTA VOLTA', '175': 'ANGOLA', '176': 'ARGELIA', '177': 'BECHUANALANDIA', '178': 'BENIN', '179': 'BOTSUANA', '180': 'BURUNDI', '181': 'CAMAROES',\n",
    " '182': 'CEUTA E MELILLA', '183': 'CHADE', '184': 'ILHAS COMORES', '185': 'CONGO', '186': 'COSTA DO MARFIM', '187': 'DAOME', '188': 'DJIBUTI', '189': 'REPUBLICA ARABE DO EGITO', '190': 'ETIOPIA',\n",
    " '191': 'REPUBLICA DO GABAO', '192': 'GAMBIA', '193': 'GANA', '194': 'GAZA', '195': 'GUINE', '196': 'GUINE EQUATORIAL', '197': 'IFNI', '198': 'ASCENSAO E TRISTAO DA CUNHA,IS', '199': 'ILHAS CANARIAS',\n",
    " '200': 'LESOTO', '201': 'LIBERIA', '202': 'LIBIA', '203': 'MADEIRA', '204': 'MALAWI', '205': 'MADAGASCAR', '206': 'MALI', '207': 'MARROCOS', '208': 'MAURICIO', '209': 'MAURITANIA',\n",
    " '210': 'MOCAMBIQUE', '211': 'NGUANE', '212': 'REPUBLICA DO NIGER', '213': 'NIGERIA', '214': 'PAPUA NOVA GUINE', '215': 'PRACAS NORTE AFRICANAS', '216': 'PROTETOR DO SUDOESTE AFRICANO',\n",
    " '217': 'QUENIA', '218': 'REPUBLICA CENTRO AFRICANA', '219': 'REUNIAO', '220': 'RODESIA (ZIMBABWE)', '221': 'RUANDA', '222': 'SAARA ESPANHOL', '223': 'SANTA HELENA', '224': 'SAO TOME E PRINCIPE',\n",
    " '225': 'SEYCHELLES', '226': 'SERRA LEOA', '227': 'SOMALIA, REPUBLICA', '228': 'SUAZILANDIA', '229': 'SUDAO', '230': 'TANGANICA', '231': 'TERRIT. BRITANICO DO OCEANO INDICO', '232': 'TRANSKEI',\n",
    " '233': 'TOGO', '234': 'TUNISIA', '235': 'UGANDA', '236': 'ZAIRE', '237': 'ZAMBIA', '238': 'BURKINA FASSO', '239': 'ZIMBABWE', '240': 'NAMIBIA', '241': 'AFEGANISTAO', '242': 'ARABIA SAUDITA',\n",
    " '243': 'BAHREIN', '244': 'BIRMANIA', '245': 'BRUNEI', '246': 'BHUTAN', '247': 'CATAR', '248': 'CEILAO', '249': 'CHINA (TAIWAN)', '250': 'COVEITE', '251': 'EMIRADOS ARABES UNIDOS',\n",
    " '252': 'FILIPINAS', '253': 'HONG-KONG', '254': 'IEMEN', '255': 'INDIA', '256': 'INDONESIA', '257': 'IRA', '258': 'IRAQUE', '259': 'ISRAEL', '260': 'JORDANIA', '261': 'KMER/CAMBOJA',\n",
    " '262': 'KUWAIT', '263': 'LAOS', '264': 'LIBANO', '265': 'MACAU', '266': 'MALASIA', '267': 'MALDIVAS,IS', '268': 'MASCATE', '269': 'MONGOLIA', '270': 'NEPAL', '271': 'OMAN', '272': 'PALESTINA',\n",
    " '273': 'PAQUISTAO', '274': 'RUIQUIU,IS', '275': 'CINGAPURA', '276': 'SEQUIN', '277': 'SIRIA', '278': 'SRI-LANKA', '279': 'TAILANDIA', '280': 'TREGUA, ESTADO', '281': 'TURQUIA', '282': 'VIETNA DO NORTE',\n",
    " '283': 'VIETNA DO SUL', '284': 'MIANMA', '285': 'ARQUIPELAGO MANAHIKI', '286': 'ARQUIPELAGO MIDWAY', '287': 'ASHMORE E CARTIER', '288': 'AUSTRALIA', '289': 'ARQUIPELAGO DE BISMARK', '290': 'ILHAS COOK',\n",
    " '291': 'REPUBLICA DE FIJI', '292': 'GUAM', '293': 'ILHAS BAKER', '294': 'ILHAS CANTAO E ENDERBURG', '295': 'ILHAS CAROLINAS', '296': 'ILHAS DO PACIFICO', '297': 'ILHAS CHRISTMAS',\n",
    " '298': 'ILHAS GILBERT', '299': 'ILHAS HOWLAND E JARVIS', '300': 'ILHA JOHNSTON E SAND', '301': 'ILHAS KINGMAN REEF', '302': 'ILHAS MACQUAIRE', '303': 'ILHAS MARIANAS', '304': 'ILHAS MARSHALL',\n",
    " '305': 'ILHAS MACDONAL E HEARD', '306': 'ILHAS NIUE', '307': 'ILHAS NORFOLK', '308': 'ILHAS PALAU', '309': 'ILHAS SALOMAO', '310': 'ILHAS TOKELAU', '311': 'ILHAS WAKE', '312': 'KALIMATAN',\n",
    " '313': 'ILHAS LINHA', '314': 'NAURU', '315': 'ILHAS NOVA CALEDONIA', '316': 'NOVA GUINE', '317': 'NOVA ZELANDIA', '318': 'ILHAS NOVAS HEBRIDAS', '319': 'TERRITORIO DE PAPUA', '320': 'ILHAS PASCOA',\n",
    " '321': 'ILHAS PITCAIRIN', '322': 'POLINESIA FRANCESA', '323': 'SABAH', '324': 'SAMOA AMERICANA', '325': 'SAMOA OCIDENTAL', '326': 'ILHAS SANTA CRUZ', '327': 'SARAWAK', '328': 'TERRITORIO DE COCOS',\n",
    " '329': 'TIMOR', '330': 'TONGA', '331': 'TUVALU', '332': 'ILHAS WALLIS E FUTUNA', '333': 'ANTARTICO BRITANICO, TERRITORIO', '334': 'ANTARTICA FRANCESA', '335': 'TERR. ANTARTICO DA AUSTRALIA',\n",
    " '336': 'ANTARTICO CHILENO', '337': 'ANTARTICO ARGENTINO', '338': 'ANTARTICO NORUEGUES', '339': 'APATRIDA', '340': 'DEPENDENCIA DE ROSS', '341': 'TERRAS AUSTRAIS', '342': 'BANGLADESH',\n",
    " '343': 'CABO VERDE', '344': 'GUINE BISSAU', '345': 'IEMEN DO SUL', '346': 'KARA KALPAK', '347': 'ARMENIA', '348': 'RUSSIA', '349': 'SENEGAL', '350': 'TANZANIA', '351': 'MALAUI', '352': 'REPÚBLICA DO SUDÃO DO SUL',\n",
    " '353': 'ERITREIA', '354': 'DOMINICA', '355': 'COREIA, REPUBLICA DA (COREIA DO SUL)', '356': 'CONGO, REPUBLICA DO (BRAZZAVILLE)', '357': 'ANGUILLA', '358': 'ILHAS CAYMAN', '359': 'ILHAS DE GUERNSEY',\n",
    " '360': 'ILHAS DE JERSEY', '361': 'ILHAS GEORGIA DO SUL E ILHAS SANDWICH DO SUL', '362': 'MAYOTTE, ILHA', '363': 'QUIRIBATI'}"
   ]
  },
  {
   "cell_type": "code",
   "execution_count": 57,
   "id": "f78a705f",
   "metadata": {},
   "outputs": [],
   "source": [
    "# Changing column 'nacionalidade_paciente' with names\n",
    "dados_sp_rt6['nacionalidade_paciente_nome'] = dados_sp_rt6['nacionalidade_paciente'].map(nacionalidades)"
   ]
  },
  {
   "cell_type": "markdown",
   "id": "afbffecf",
   "metadata": {},
   "source": [
    "## 1.13 Changing \"natureza jurídica\""
   ]
  },
  {
   "cell_type": "code",
   "execution_count": 58,
   "id": "3b289bfc",
   "metadata": {},
   "outputs": [],
   "source": [
    "dados_sp_rt7 = dados_sp_rt6.copy()"
   ]
  },
  {
   "cell_type": "code",
   "execution_count": 59,
   "id": "2f2b4ed0",
   "metadata": {},
   "outputs": [],
   "source": [
    "natureza_juridica = {'3069': 'Fundacao Privada', '1112': 'Autarquia Estadual ou DF', '3999': 'Associacao Privada', \n",
    "                     '1023': 'Orgao Publico Poder Executivo Estadual ou DF', '1031': 'Orgao Publico Poder Executivo Municipal',\n",
    "                     '2062': 'Sociedade Empresaria Limitada', '1120': 'Autarquia Municipal', '1244': 'Municipio'}"
   ]
  },
  {
   "cell_type": "code",
   "execution_count": 60,
   "id": "1a63a34f",
   "metadata": {},
   "outputs": [],
   "source": [
    "dados_sp_rt7['natureza_juridica_nome'] = dados_sp_rt7['codigo_natureza_juridica'].map(natureza_juridica)"
   ]
  },
  {
   "cell_type": "markdown",
   "id": "1511bb2a",
   "metadata": {},
   "source": [
    "## 1.14 Changing \"idade\" to int"
   ]
  },
  {
   "cell_type": "code",
   "execution_count": 61,
   "id": "16a7fc81",
   "metadata": {},
   "outputs": [],
   "source": [
    "dados_sp_rt7[\"idade_paciente\"] = dados_sp_rt7[\"idade_paciente\"].astype(int)"
   ]
  },
  {
   "cell_type": "markdown",
   "id": "9cd042ed",
   "metadata": {},
   "source": [
    "## 1.15 Working with date columns"
   ]
  },
  {
   "cell_type": "code",
   "execution_count": 62,
   "id": "6cfdb302",
   "metadata": {},
   "outputs": [],
   "source": [
    "# Subtracting dates to calculate the time between the start of treatment and the pathological identification and putting those data as int\n",
    "dados_sp_rt7['inicio_patologico'] = (dados_sp_rt7['data_inicio_tratamento_solicitado'] - dados_sp_rt7['data_identificacao_patologica']).dt.days.fillna(0).astype(int)"
   ]
  },
  {
   "cell_type": "code",
   "execution_count": 63,
   "id": "ebf645ea",
   "metadata": {},
   "outputs": [],
   "source": [
    "# Subtracting dates to calculate the time between the start of treatment and the end of treatment for each cicle\n",
    "dados_sp_rt7['inicio_fim_1'] = (dados_sp_rt7['data_fim_1'] - dados_sp_rt7['data_inicio_1'] ).dt.days.astype(int, errors='ignore')\n",
    "dados_sp_rt7['inicio_fim_2'] = (dados_sp_rt7['data_fim_2'] - dados_sp_rt7['data_inicio_2'] ).dt.days.astype(int, errors='ignore')\n",
    "dados_sp_rt7['inicio_fim_3'] = (dados_sp_rt7['data_fim_3'] - dados_sp_rt7['data_inicio_3'] ).dt.days.astype(int, errors='ignore')\n"
   ]
  },
  {
   "cell_type": "markdown",
   "id": "ca6d6e53",
   "metadata": {},
   "source": [
    "## 1.16 Changing \"carater_atendimento\""
   ]
  },
  {
   "cell_type": "code",
   "execution_count": 64,
   "id": "f40428d8",
   "metadata": {},
   "outputs": [],
   "source": [
    "carater = {'01': 'Eletiva', '02': 'Urgência/Emergência em Unidade de Referência', '03': 'Urgência/Emergência, quando a AIH tiver sido emitida antes da internação','04': 'Internação em AIH de alta complexidade', '05': 'Urgência/Emergência, quando a AIH tiver sido emitida após a internação.','06': 'quadro compatível com acidente no local de trabalho ou a serviço da empresa','07': 'quadro compatível com acidente de trajeto entre a residência e trabalho','08': 'quadro compatível com outros tipos de acidente de trânsito, não considerados acidentes de trajeto entre residência e trabalho','09': 'quadro compatível com outros tipos de lesões e envenenamentos, por agentes físicos ou químicos.','11': 'Eletiva - atendimento em regime de hospital-dia','20': 'Urgência/Emergência em Unidade de Referência','21': 'Urgência/Emergência em Unidade de Referência - atendimento em regime de hospital-dia','26': 'Urgência/Emergência - quadro compatível com acidente no local de trabalho ou a serviço da empresa','27': 'Urgência/Emergência - quadro compatível com acidente de trajeto entre a residência e trabalho','28': 'Urgência/Emergência - quadro compatível com outros tipos de acidente de trânsito, não considerados acidentes de trajeto entre residência e trabalho','29': 'Urgência/Emergência - quadro compatível com outros tipos de lesões e envenenamentos, por agentes físicos ou químicos.','41': 'Internação em AIH de alta complexidade - atendimento em regime de hospital-dia'}"
   ]
  },
  {
   "cell_type": "code",
   "execution_count": 65,
   "id": "ca23b3b7",
   "metadata": {},
   "outputs": [],
   "source": [
    "# Adjusting \"carater_atendimento\" column to have descriptive names\n",
    "dados_sp_rt7['carater_atendimento_nome'] = dados_sp_rt7['carater_atendimento'].map(carater).fillna('Nao informado')"
   ]
  },
  {
   "cell_type": "markdown",
   "id": "af83d381",
   "metadata": {},
   "source": [
    "## 1.17 Adjusting \"finalidade_tratamento\""
   ]
  },
  {
   "cell_type": "code",
   "execution_count": 66,
   "id": "7e7b6b20",
   "metadata": {},
   "outputs": [],
   "source": [
    "dados_sp_rt8 = dados_sp_rt7.copy()"
   ]
  },
  {
   "cell_type": "code",
   "execution_count": 67,
   "id": "88323581",
   "metadata": {},
   "outputs": [],
   "source": [
    "finalidade = {'1': 'RADICAL', \"2\": \"ADJUVANTE\", \"3\": \"ANTIÁLGICA\", \"4\": \"PALIATIVA\", \"5\": \"PRÉVIA\", \"6\": \"ANTIHEMORRÁGICA\"}"
   ]
  },
  {
   "cell_type": "code",
   "execution_count": 68,
   "id": "c0bdeade",
   "metadata": {},
   "outputs": [],
   "source": [
    "# Mapping the 'finalidade_tratamento' column to have descriptive names\n",
    "dados_sp_rt8['finalidade_tratamento'] = dados_sp_rt8['finalidade_tratamento'].map(finalidade).fillna('Nao informado')"
   ]
  },
  {
   "cell_type": "markdown",
   "id": "4d6b4543",
   "metadata": {},
   "source": [
    "## 1.18 Selecting columns"
   ]
  },
  {
   "cell_type": "code",
   "execution_count": 69,
   "id": "b0b47d3e",
   "metadata": {},
   "outputs": [],
   "source": [
    "dados_sp_rt9 = dados_sp_rt8[['data_processamento', 'ano', 'sigla_tipo_gestao', 'codigo_cnes', 'valor_total_apac_aprovado', 'estabelecimento_mantido_individual', 'idade_paciente', 'sexo_paciente', 'raca_cor_paciente', 'uf_residencia_diferente_uf_estabelecimento', 'municipio_residencia_diferente_municipio_estabelecimento', 'motivo_saida_permanencia_nome', 'indicador_obito', 'indicador_encerramento', 'indicador_permanencia', 'indicador_alta', 'indicador_transferencia', 'carater_atendimento_nome',  'cid_principal', 'cid_secundario', 'tratamentos_anteriores', 'continuidade_tratamento', 'finalidade_tratamento', 'cid_topografico_1', 'cid_topografico_2', 'cid_topografico_3', 'data_inicio_1_tratamento_anterior', 'data_inicio_2_tratamento_anterior', 'data_inicio_3_tratamento_anterior', 'data_inicio_tratamento_solicitado', 'procedimento_principal_apac_nome', 'cid10', 'valor_total_apac_aprovado_sus_paulista', 'cidade_cnes', 'cidade_patient', 'cidade_gestao', 'tipo_estabelecimento_nome', 'motivo_saida_permanencia_nome', 'nacionalidade_paciente_nome', 'inicio_patologico', 'inicio_fim_1', 'inicio_fim_2', 'inicio_fim_3']]"
   ]
  },
  {
   "cell_type": "markdown",
   "id": "5f44640d",
   "metadata": {},
   "source": [
    "## 1.19 Saving finished data to EDA"
   ]
  },
  {
   "cell_type": "code",
   "execution_count": null,
   "id": "ca55667e",
   "metadata": {},
   "outputs": [],
   "source": [
    "# dados_sp_rt9.to_csv('C:\\\\Users\\\\175 MX\\\\Documents\\\\Gustavo\\\\datasus\\\\data_rt_states\\\\streamlit\\\\dados_sp_rt.csv', index=False, encoding='utf-8-sig')"
   ]
  },
  {
   "cell_type": "markdown",
   "id": "6f8d0f6b",
   "metadata": {},
   "source": [
    "# 2. Exploratory Data Analysis"
   ]
  },
  {
   "cell_type": "markdown",
   "id": "0299e98f",
   "metadata": {},
   "source": [
    "## H1: The APAC's mean price has been increasing year by year"
   ]
  },
  {
   "cell_type": "code",
   "execution_count": 191,
   "id": "f7a71301",
   "metadata": {},
   "outputs": [
    {
     "data": {
      "image/png": "[encoded data removed]",
      "text/plain": [
       "<Figure size 1200x800 with 1 Axes>"
      ]
     },
     "metadata": {},
     "output_type": "display_data"
    }
   ],
   "source": [
    "aux = dados_sp_rt9[['valor_total_apac_aprovado', 'ano']].groupby('ano').mean().reset_index().sort_values(by='ano', ascending=True)\n",
    "\n",
    "sns.barplot(data=aux, x='ano', y='valor_total_apac_aprovado')\n",
    "plt.title('Média do valor total APAC aprovado por ano');"
   ]
  },
  {
   "cell_type": "markdown",
   "id": "4dac145d",
   "metadata": {},
   "source": [
    "## H2: The revenue didn't change much, only when we had budget's table updates (not consider SUS Paulista)"
   ]
  },
  {
   "cell_type": "code",
   "execution_count": null,
   "id": "3641ab9b",
   "metadata": {},
   "outputs": [
    {
     "data": {
      "image/png": "[encoded data removed]",
      "text/plain": [
       "<Figure size 1200x800 with 1 Axes>"
      ]
     },
     "metadata": {},
     "output_type": "display_data"
    }
   ],
   "source": [
    "aux = dados_sp_rt9[['valor_total_apac_aprovado', 'ano']].groupby('ano').sum().reset_index().sort_values(by='ano', ascending=True)\n",
    "aux['pct_change'] = (aux['valor_total_apac_aprovado'].pct_change() * 100).fillna(0)\n",
    "\n",
    "# Create the bar plot\n",
    "ax = sns.barplot(data=aux, x='ano', y='valor_total_apac_aprovado')\n",
    "plt.title('Soma do valor total APAC aprovado por ano')\n",
    "\n",
    "# Add percentage change labels above each bar\n",
    "for i, (index, row) in enumerate(aux.iterrows()):\n",
    "    # Get the height of the bar\n",
    "    bar_height = row['valor_total_apac_aprovado']\n",
    "    \n",
    "    # Add the percentage change label above the bar\n",
    "    # Skip the first bar (index 0) since pct_change is 0 for the first year\n",
    "    if i > 0:\n",
    "        ax.text(i, bar_height + bar_height * 0.01, f'{row[\"pct_change\"]:.1f}%', \n",
    "                ha='center', va='bottom', fontsize=10, fontweight='bold')\n",
    "    else:\n",
    "        # For the first bar, you might want to show \"Base\" or skip the label\n",
    "        ax.text(i, bar_height + bar_height * 0.01, 'Base', \n",
    "                ha='center', va='bottom', fontsize=10, fontweight='bold')\n",
    "\n",
    "plt.tight_layout()"
   ]
  },
  {
   "cell_type": "code",
   "execution_count": 2,
   "id": "167c1c39",
   "metadata": {},
   "outputs": [
    {
     "ename": "NameError",
     "evalue": "name 'dados_sp_rt9' is not defined",
     "output_type": "error",
     "traceback": [
      "\u001b[31m---------------------------------------------------------------------------\u001b[39m",
      "\u001b[31mNameError\u001b[39m                                 Traceback (most recent call last)",
      "\u001b[36mCell\u001b[39m\u001b[36m \u001b[39m\u001b[32mIn[2]\u001b[39m\u001b[32m, line 1\u001b[39m\n\u001b[32m----> \u001b[39m\u001b[32m1\u001b[39m aux = \u001b[43mdados_sp_rt9\u001b[49m[[\u001b[33m'\u001b[39m\u001b[33mvalor_total_apac_aprovado\u001b[39m\u001b[33m'\u001b[39m, \u001b[33m'\u001b[39m\u001b[33mano\u001b[39m\u001b[33m'\u001b[39m, \u001b[33m'\u001b[39m\u001b[33mcodigo_cnes\u001b[39m\u001b[33m'\u001b[39m]].groupby([\u001b[33m'\u001b[39m\u001b[33mano\u001b[39m\u001b[33m'\u001b[39m, \u001b[33m'\u001b[39m\u001b[33mcodigo_cnes\u001b[39m\u001b[33m'\u001b[39m]).sum().reset_index().sort_values(by=\u001b[33m'\u001b[39m\u001b[33mano\u001b[39m\u001b[33m'\u001b[39m, ascending=\u001b[38;5;28;01mTrue\u001b[39;00m)\n",
      "\u001b[31mNameError\u001b[39m: name 'dados_sp_rt9' is not defined"
     ]
    }
   ],
   "source": [
    "aux = dados_sp_rt9[['valor_total_apac_aprovado', 'ano', 'codigo_cnes']].groupby(['ano', 'codigo_cnes']).sum().reset_index().sort_values(by='ano', ascending=True)"
   ]
  },
  {
   "cell_type": "markdown",
   "id": "445482a9",
   "metadata": {},
   "source": []
  }
 ],
 "metadata": {
  "kernelspec": {
   "display_name": "datasus",
   "language": "python",
   "name": "python3"
  },
  "language_info": {
   "codemirror_mode": {
    "name": "ipython",
    "version": 3
   },
   "file_extension": ".py",
   "mimetype": "text/x-python",
   "name": "python",
   "nbconvert_exporter": "python",
   "pygments_lexer": "ipython3",
   "version": "3.13.2"
  }
 },
 "nbformat": 4,
 "nbformat_minor": 5
}
